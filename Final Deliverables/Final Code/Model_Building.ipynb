{
  "nbformat": 4,
  "nbformat_minor": 0,
  "metadata": {
    "colab": {
      "provenance": []
    },
    "kernelspec": {
      "name": "python3",
      "display_name": "Python 3"
    },
    "language_info": {
      "name": "python"
    },
    "accelerator": "GPU",
    "gpuClass": "standard"
  },
  "cells": [
    {
      "cell_type": "markdown",
      "source": [
        "**IMPORT NECESSARY LIBRARIES**"
      ],
      "metadata": {
        "id": "vvAyWyoMPuvZ"
      }
    },
    {
      "cell_type": "code",
      "source": [
        "import pandas as pd \n",
        "import numpy as np \n",
        "import matplotlib.pyplot as plt \n",
        "import seaborn as sns \n",
        "from collections import Counter as с \n",
        "import missingno as msno \n",
        "from sklearn.metrics import accuracy_score, confusion_matrix\n",
        "from sklearn.model_selection import train_test_split \n",
        "from sklearn.preprocessing import LabelEncoder \n",
        "#from sklearn. linear_model import LogisticRegression \n",
        "#import pickle "
      ],
      "metadata": {
        "id": "kw05LB3gPw2m"
      },
      "execution_count": null,
      "outputs": []
    },
    {
      "cell_type": "markdown",
      "source": [
        "**READ THE DATASET**"
      ],
      "metadata": {
        "id": "-U5pumAIP3wn"
      }
    },
    {
      "cell_type": "code",
      "source": [
        "f1=pd.read_csv(\"chronickidneydisease.csv\")"
      ],
      "metadata": {
        "id": "7a2jhWBYgRYf"
      },
      "execution_count": null,
      "outputs": []
    },
    {
      "cell_type": "code",
      "source": [
        "f1.head()"
      ],
      "metadata": {
        "colab": {
          "base_uri": "https://localhost:8080/",
          "height": 235
        },
        "id": "JMYT6rzKgVsj",
        "outputId": "fe03db87-6ca3-406c-9fbc-4b0c353e6c25"
      },
      "execution_count": null,
      "outputs": [
        {
          "output_type": "execute_result",
          "data": {
            "text/plain": [
              "   id   age    bp     sg   al   su     rbc        pc         pcc          ba  \\\n",
              "0   0  48.0  80.0  1.020  1.0  0.0     NaN    normal  notpresent  notpresent   \n",
              "1   1   7.0  50.0  1.020  4.0  0.0     NaN    normal  notpresent  notpresent   \n",
              "2   2  62.0  80.0  1.010  2.0  3.0  normal    normal  notpresent  notpresent   \n",
              "3   3  48.0  70.0  1.005  4.0  0.0  normal  abnormal     present  notpresent   \n",
              "4   4  51.0  80.0  1.010  2.0  0.0  normal    normal  notpresent  notpresent   \n",
              "\n",
              "   ...  pcv    wc   rc  htn   dm  cad appet   pe  ane classification  \n",
              "0  ...   44  7800  5.2  yes  yes   no  good   no   no            ckd  \n",
              "1  ...   38  6000  NaN   no   no   no  good   no   no            ckd  \n",
              "2  ...   31  7500  NaN   no  yes   no  poor   no  yes            ckd  \n",
              "3  ...   32  6700  3.9  yes   no   no  poor  yes  yes            ckd  \n",
              "4  ...   35  7300  4.6   no   no   no  good   no   no            ckd  \n",
              "\n",
              "[5 rows x 26 columns]"
            ],
            "text/html": [
              "\n",
              "  <div id=\"df-167fd796-10b6-48e1-83e6-c9a31e530f2d\">\n",
              "    <div class=\"colab-df-container\">\n",
              "      <div>\n",
              "<style scoped>\n",
              "    .dataframe tbody tr th:only-of-type {\n",
              "        vertical-align: middle;\n",
              "    }\n",
              "\n",
              "    .dataframe tbody tr th {\n",
              "        vertical-align: top;\n",
              "    }\n",
              "\n",
              "    .dataframe thead th {\n",
              "        text-align: right;\n",
              "    }\n",
              "</style>\n",
              "<table border=\"1\" class=\"dataframe\">\n",
              "  <thead>\n",
              "    <tr style=\"text-align: right;\">\n",
              "      <th></th>\n",
              "      <th>id</th>\n",
              "      <th>age</th>\n",
              "      <th>bp</th>\n",
              "      <th>sg</th>\n",
              "      <th>al</th>\n",
              "      <th>su</th>\n",
              "      <th>rbc</th>\n",
              "      <th>pc</th>\n",
              "      <th>pcc</th>\n",
              "      <th>ba</th>\n",
              "      <th>...</th>\n",
              "      <th>pcv</th>\n",
              "      <th>wc</th>\n",
              "      <th>rc</th>\n",
              "      <th>htn</th>\n",
              "      <th>dm</th>\n",
              "      <th>cad</th>\n",
              "      <th>appet</th>\n",
              "      <th>pe</th>\n",
              "      <th>ane</th>\n",
              "      <th>classification</th>\n",
              "    </tr>\n",
              "  </thead>\n",
              "  <tbody>\n",
              "    <tr>\n",
              "      <th>0</th>\n",
              "      <td>0</td>\n",
              "      <td>48.0</td>\n",
              "      <td>80.0</td>\n",
              "      <td>1.020</td>\n",
              "      <td>1.0</td>\n",
              "      <td>0.0</td>\n",
              "      <td>NaN</td>\n",
              "      <td>normal</td>\n",
              "      <td>notpresent</td>\n",
              "      <td>notpresent</td>\n",
              "      <td>...</td>\n",
              "      <td>44</td>\n",
              "      <td>7800</td>\n",
              "      <td>5.2</td>\n",
              "      <td>yes</td>\n",
              "      <td>yes</td>\n",
              "      <td>no</td>\n",
              "      <td>good</td>\n",
              "      <td>no</td>\n",
              "      <td>no</td>\n",
              "      <td>ckd</td>\n",
              "    </tr>\n",
              "    <tr>\n",
              "      <th>1</th>\n",
              "      <td>1</td>\n",
              "      <td>7.0</td>\n",
              "      <td>50.0</td>\n",
              "      <td>1.020</td>\n",
              "      <td>4.0</td>\n",
              "      <td>0.0</td>\n",
              "      <td>NaN</td>\n",
              "      <td>normal</td>\n",
              "      <td>notpresent</td>\n",
              "      <td>notpresent</td>\n",
              "      <td>...</td>\n",
              "      <td>38</td>\n",
              "      <td>6000</td>\n",
              "      <td>NaN</td>\n",
              "      <td>no</td>\n",
              "      <td>no</td>\n",
              "      <td>no</td>\n",
              "      <td>good</td>\n",
              "      <td>no</td>\n",
              "      <td>no</td>\n",
              "      <td>ckd</td>\n",
              "    </tr>\n",
              "    <tr>\n",
              "      <th>2</th>\n",
              "      <td>2</td>\n",
              "      <td>62.0</td>\n",
              "      <td>80.0</td>\n",
              "      <td>1.010</td>\n",
              "      <td>2.0</td>\n",
              "      <td>3.0</td>\n",
              "      <td>normal</td>\n",
              "      <td>normal</td>\n",
              "      <td>notpresent</td>\n",
              "      <td>notpresent</td>\n",
              "      <td>...</td>\n",
              "      <td>31</td>\n",
              "      <td>7500</td>\n",
              "      <td>NaN</td>\n",
              "      <td>no</td>\n",
              "      <td>yes</td>\n",
              "      <td>no</td>\n",
              "      <td>poor</td>\n",
              "      <td>no</td>\n",
              "      <td>yes</td>\n",
              "      <td>ckd</td>\n",
              "    </tr>\n",
              "    <tr>\n",
              "      <th>3</th>\n",
              "      <td>3</td>\n",
              "      <td>48.0</td>\n",
              "      <td>70.0</td>\n",
              "      <td>1.005</td>\n",
              "      <td>4.0</td>\n",
              "      <td>0.0</td>\n",
              "      <td>normal</td>\n",
              "      <td>abnormal</td>\n",
              "      <td>present</td>\n",
              "      <td>notpresent</td>\n",
              "      <td>...</td>\n",
              "      <td>32</td>\n",
              "      <td>6700</td>\n",
              "      <td>3.9</td>\n",
              "      <td>yes</td>\n",
              "      <td>no</td>\n",
              "      <td>no</td>\n",
              "      <td>poor</td>\n",
              "      <td>yes</td>\n",
              "      <td>yes</td>\n",
              "      <td>ckd</td>\n",
              "    </tr>\n",
              "    <tr>\n",
              "      <th>4</th>\n",
              "      <td>4</td>\n",
              "      <td>51.0</td>\n",
              "      <td>80.0</td>\n",
              "      <td>1.010</td>\n",
              "      <td>2.0</td>\n",
              "      <td>0.0</td>\n",
              "      <td>normal</td>\n",
              "      <td>normal</td>\n",
              "      <td>notpresent</td>\n",
              "      <td>notpresent</td>\n",
              "      <td>...</td>\n",
              "      <td>35</td>\n",
              "      <td>7300</td>\n",
              "      <td>4.6</td>\n",
              "      <td>no</td>\n",
              "      <td>no</td>\n",
              "      <td>no</td>\n",
              "      <td>good</td>\n",
              "      <td>no</td>\n",
              "      <td>no</td>\n",
              "      <td>ckd</td>\n",
              "    </tr>\n",
              "  </tbody>\n",
              "</table>\n",
              "<p>5 rows × 26 columns</p>\n",
              "</div>\n",
              "      <button class=\"colab-df-convert\" onclick=\"convertToInteractive('df-167fd796-10b6-48e1-83e6-c9a31e530f2d')\"\n",
              "              title=\"Convert this dataframe to an interactive table.\"\n",
              "              style=\"display:none;\">\n",
              "        \n",
              "  <svg xmlns=\"http://www.w3.org/2000/svg\" height=\"24px\"viewBox=\"0 0 24 24\"\n",
              "       width=\"24px\">\n",
              "    <path d=\"M0 0h24v24H0V0z\" fill=\"none\"/>\n",
              "    <path d=\"M18.56 5.44l.94 2.06.94-2.06 2.06-.94-2.06-.94-.94-2.06-.94 2.06-2.06.94zm-11 1L8.5 8.5l.94-2.06 2.06-.94-2.06-.94L8.5 2.5l-.94 2.06-2.06.94zm10 10l.94 2.06.94-2.06 2.06-.94-2.06-.94-.94-2.06-.94 2.06-2.06.94z\"/><path d=\"M17.41 7.96l-1.37-1.37c-.4-.4-.92-.59-1.43-.59-.52 0-1.04.2-1.43.59L10.3 9.45l-7.72 7.72c-.78.78-.78 2.05 0 2.83L4 21.41c.39.39.9.59 1.41.59.51 0 1.02-.2 1.41-.59l7.78-7.78 2.81-2.81c.8-.78.8-2.07 0-2.86zM5.41 20L4 18.59l7.72-7.72 1.47 1.35L5.41 20z\"/>\n",
              "  </svg>\n",
              "      </button>\n",
              "      \n",
              "  <style>\n",
              "    .colab-df-container {\n",
              "      display:flex;\n",
              "      flex-wrap:wrap;\n",
              "      gap: 12px;\n",
              "    }\n",
              "\n",
              "    .colab-df-convert {\n",
              "      background-color: #E8F0FE;\n",
              "      border: none;\n",
              "      border-radius: 50%;\n",
              "      cursor: pointer;\n",
              "      display: none;\n",
              "      fill: #1967D2;\n",
              "      height: 32px;\n",
              "      padding: 0 0 0 0;\n",
              "      width: 32px;\n",
              "    }\n",
              "\n",
              "    .colab-df-convert:hover {\n",
              "      background-color: #E2EBFA;\n",
              "      box-shadow: 0px 1px 2px rgba(60, 64, 67, 0.3), 0px 1px 3px 1px rgba(60, 64, 67, 0.15);\n",
              "      fill: #174EA6;\n",
              "    }\n",
              "\n",
              "    [theme=dark] .colab-df-convert {\n",
              "      background-color: #3B4455;\n",
              "      fill: #D2E3FC;\n",
              "    }\n",
              "\n",
              "    [theme=dark] .colab-df-convert:hover {\n",
              "      background-color: #434B5C;\n",
              "      box-shadow: 0px 1px 3px 1px rgba(0, 0, 0, 0.15);\n",
              "      filter: drop-shadow(0px 1px 2px rgba(0, 0, 0, 0.3));\n",
              "      fill: #FFFFFF;\n",
              "    }\n",
              "  </style>\n",
              "\n",
              "      <script>\n",
              "        const buttonEl =\n",
              "          document.querySelector('#df-167fd796-10b6-48e1-83e6-c9a31e530f2d button.colab-df-convert');\n",
              "        buttonEl.style.display =\n",
              "          google.colab.kernel.accessAllowed ? 'block' : 'none';\n",
              "\n",
              "        async function convertToInteractive(key) {\n",
              "          const element = document.querySelector('#df-167fd796-10b6-48e1-83e6-c9a31e530f2d');\n",
              "          const dataTable =\n",
              "            await google.colab.kernel.invokeFunction('convertToInteractive',\n",
              "                                                     [key], {});\n",
              "          if (!dataTable) return;\n",
              "\n",
              "          const docLinkHtml = 'Like what you see? Visit the ' +\n",
              "            '<a target=\"_blank\" href=https://colab.research.google.com/notebooks/data_table.ipynb>data table notebook</a>'\n",
              "            + ' to learn more about interactive tables.';\n",
              "          element.innerHTML = '';\n",
              "          dataTable['output_type'] = 'display_data';\n",
              "          await google.colab.output.renderOutput(dataTable, element);\n",
              "          const docLink = document.createElement('div');\n",
              "          docLink.innerHTML = docLinkHtml;\n",
              "          element.appendChild(docLink);\n",
              "        }\n",
              "      </script>\n",
              "    </div>\n",
              "  </div>\n",
              "  "
            ]
          },
          "metadata": {},
          "execution_count": 3
        }
      ]
    },
    {
      "cell_type": "code",
      "source": [
        "f1.tail()"
      ],
      "metadata": {
        "colab": {
          "base_uri": "https://localhost:8080/",
          "height": 235
        },
        "id": "A1nQa-MWQTv9",
        "outputId": "18b5258a-bc82-47db-f516-d58e331a992f"
      },
      "execution_count": null,
      "outputs": [
        {
          "output_type": "execute_result",
          "data": {
            "text/plain": [
              "      id   age    bp     sg   al   su     rbc      pc         pcc          ba  \\\n",
              "395  395  55.0  80.0  1.020  0.0  0.0  normal  normal  notpresent  notpresent   \n",
              "396  396  42.0  70.0  1.025  0.0  0.0  normal  normal  notpresent  notpresent   \n",
              "397  397  12.0  80.0  1.020  0.0  0.0  normal  normal  notpresent  notpresent   \n",
              "398  398  17.0  60.0  1.025  0.0  0.0  normal  normal  notpresent  notpresent   \n",
              "399  399  58.0  80.0  1.025  0.0  0.0  normal  normal  notpresent  notpresent   \n",
              "\n",
              "     ...  pcv    wc   rc  htn  dm  cad appet  pe ane classification  \n",
              "395  ...   47  6700  4.9   no  no   no  good  no  no         notckd  \n",
              "396  ...   54  7800  6.2   no  no   no  good  no  no         notckd  \n",
              "397  ...   49  6600  5.4   no  no   no  good  no  no         notckd  \n",
              "398  ...   51  7200  5.9   no  no   no  good  no  no         notckd  \n",
              "399  ...   53  6800  6.1   no  no   no  good  no  no         notckd  \n",
              "\n",
              "[5 rows x 26 columns]"
            ],
            "text/html": [
              "\n",
              "  <div id=\"df-9c4252a8-5bfe-44e7-a7cc-bac8d8b0f97a\">\n",
              "    <div class=\"colab-df-container\">\n",
              "      <div>\n",
              "<style scoped>\n",
              "    .dataframe tbody tr th:only-of-type {\n",
              "        vertical-align: middle;\n",
              "    }\n",
              "\n",
              "    .dataframe tbody tr th {\n",
              "        vertical-align: top;\n",
              "    }\n",
              "\n",
              "    .dataframe thead th {\n",
              "        text-align: right;\n",
              "    }\n",
              "</style>\n",
              "<table border=\"1\" class=\"dataframe\">\n",
              "  <thead>\n",
              "    <tr style=\"text-align: right;\">\n",
              "      <th></th>\n",
              "      <th>id</th>\n",
              "      <th>age</th>\n",
              "      <th>bp</th>\n",
              "      <th>sg</th>\n",
              "      <th>al</th>\n",
              "      <th>su</th>\n",
              "      <th>rbc</th>\n",
              "      <th>pc</th>\n",
              "      <th>pcc</th>\n",
              "      <th>ba</th>\n",
              "      <th>...</th>\n",
              "      <th>pcv</th>\n",
              "      <th>wc</th>\n",
              "      <th>rc</th>\n",
              "      <th>htn</th>\n",
              "      <th>dm</th>\n",
              "      <th>cad</th>\n",
              "      <th>appet</th>\n",
              "      <th>pe</th>\n",
              "      <th>ane</th>\n",
              "      <th>classification</th>\n",
              "    </tr>\n",
              "  </thead>\n",
              "  <tbody>\n",
              "    <tr>\n",
              "      <th>395</th>\n",
              "      <td>395</td>\n",
              "      <td>55.0</td>\n",
              "      <td>80.0</td>\n",
              "      <td>1.020</td>\n",
              "      <td>0.0</td>\n",
              "      <td>0.0</td>\n",
              "      <td>normal</td>\n",
              "      <td>normal</td>\n",
              "      <td>notpresent</td>\n",
              "      <td>notpresent</td>\n",
              "      <td>...</td>\n",
              "      <td>47</td>\n",
              "      <td>6700</td>\n",
              "      <td>4.9</td>\n",
              "      <td>no</td>\n",
              "      <td>no</td>\n",
              "      <td>no</td>\n",
              "      <td>good</td>\n",
              "      <td>no</td>\n",
              "      <td>no</td>\n",
              "      <td>notckd</td>\n",
              "    </tr>\n",
              "    <tr>\n",
              "      <th>396</th>\n",
              "      <td>396</td>\n",
              "      <td>42.0</td>\n",
              "      <td>70.0</td>\n",
              "      <td>1.025</td>\n",
              "      <td>0.0</td>\n",
              "      <td>0.0</td>\n",
              "      <td>normal</td>\n",
              "      <td>normal</td>\n",
              "      <td>notpresent</td>\n",
              "      <td>notpresent</td>\n",
              "      <td>...</td>\n",
              "      <td>54</td>\n",
              "      <td>7800</td>\n",
              "      <td>6.2</td>\n",
              "      <td>no</td>\n",
              "      <td>no</td>\n",
              "      <td>no</td>\n",
              "      <td>good</td>\n",
              "      <td>no</td>\n",
              "      <td>no</td>\n",
              "      <td>notckd</td>\n",
              "    </tr>\n",
              "    <tr>\n",
              "      <th>397</th>\n",
              "      <td>397</td>\n",
              "      <td>12.0</td>\n",
              "      <td>80.0</td>\n",
              "      <td>1.020</td>\n",
              "      <td>0.0</td>\n",
              "      <td>0.0</td>\n",
              "      <td>normal</td>\n",
              "      <td>normal</td>\n",
              "      <td>notpresent</td>\n",
              "      <td>notpresent</td>\n",
              "      <td>...</td>\n",
              "      <td>49</td>\n",
              "      <td>6600</td>\n",
              "      <td>5.4</td>\n",
              "      <td>no</td>\n",
              "      <td>no</td>\n",
              "      <td>no</td>\n",
              "      <td>good</td>\n",
              "      <td>no</td>\n",
              "      <td>no</td>\n",
              "      <td>notckd</td>\n",
              "    </tr>\n",
              "    <tr>\n",
              "      <th>398</th>\n",
              "      <td>398</td>\n",
              "      <td>17.0</td>\n",
              "      <td>60.0</td>\n",
              "      <td>1.025</td>\n",
              "      <td>0.0</td>\n",
              "      <td>0.0</td>\n",
              "      <td>normal</td>\n",
              "      <td>normal</td>\n",
              "      <td>notpresent</td>\n",
              "      <td>notpresent</td>\n",
              "      <td>...</td>\n",
              "      <td>51</td>\n",
              "      <td>7200</td>\n",
              "      <td>5.9</td>\n",
              "      <td>no</td>\n",
              "      <td>no</td>\n",
              "      <td>no</td>\n",
              "      <td>good</td>\n",
              "      <td>no</td>\n",
              "      <td>no</td>\n",
              "      <td>notckd</td>\n",
              "    </tr>\n",
              "    <tr>\n",
              "      <th>399</th>\n",
              "      <td>399</td>\n",
              "      <td>58.0</td>\n",
              "      <td>80.0</td>\n",
              "      <td>1.025</td>\n",
              "      <td>0.0</td>\n",
              "      <td>0.0</td>\n",
              "      <td>normal</td>\n",
              "      <td>normal</td>\n",
              "      <td>notpresent</td>\n",
              "      <td>notpresent</td>\n",
              "      <td>...</td>\n",
              "      <td>53</td>\n",
              "      <td>6800</td>\n",
              "      <td>6.1</td>\n",
              "      <td>no</td>\n",
              "      <td>no</td>\n",
              "      <td>no</td>\n",
              "      <td>good</td>\n",
              "      <td>no</td>\n",
              "      <td>no</td>\n",
              "      <td>notckd</td>\n",
              "    </tr>\n",
              "  </tbody>\n",
              "</table>\n",
              "<p>5 rows × 26 columns</p>\n",
              "</div>\n",
              "      <button class=\"colab-df-convert\" onclick=\"convertToInteractive('df-9c4252a8-5bfe-44e7-a7cc-bac8d8b0f97a')\"\n",
              "              title=\"Convert this dataframe to an interactive table.\"\n",
              "              style=\"display:none;\">\n",
              "        \n",
              "  <svg xmlns=\"http://www.w3.org/2000/svg\" height=\"24px\"viewBox=\"0 0 24 24\"\n",
              "       width=\"24px\">\n",
              "    <path d=\"M0 0h24v24H0V0z\" fill=\"none\"/>\n",
              "    <path d=\"M18.56 5.44l.94 2.06.94-2.06 2.06-.94-2.06-.94-.94-2.06-.94 2.06-2.06.94zm-11 1L8.5 8.5l.94-2.06 2.06-.94-2.06-.94L8.5 2.5l-.94 2.06-2.06.94zm10 10l.94 2.06.94-2.06 2.06-.94-2.06-.94-.94-2.06-.94 2.06-2.06.94z\"/><path d=\"M17.41 7.96l-1.37-1.37c-.4-.4-.92-.59-1.43-.59-.52 0-1.04.2-1.43.59L10.3 9.45l-7.72 7.72c-.78.78-.78 2.05 0 2.83L4 21.41c.39.39.9.59 1.41.59.51 0 1.02-.2 1.41-.59l7.78-7.78 2.81-2.81c.8-.78.8-2.07 0-2.86zM5.41 20L4 18.59l7.72-7.72 1.47 1.35L5.41 20z\"/>\n",
              "  </svg>\n",
              "      </button>\n",
              "      \n",
              "  <style>\n",
              "    .colab-df-container {\n",
              "      display:flex;\n",
              "      flex-wrap:wrap;\n",
              "      gap: 12px;\n",
              "    }\n",
              "\n",
              "    .colab-df-convert {\n",
              "      background-color: #E8F0FE;\n",
              "      border: none;\n",
              "      border-radius: 50%;\n",
              "      cursor: pointer;\n",
              "      display: none;\n",
              "      fill: #1967D2;\n",
              "      height: 32px;\n",
              "      padding: 0 0 0 0;\n",
              "      width: 32px;\n",
              "    }\n",
              "\n",
              "    .colab-df-convert:hover {\n",
              "      background-color: #E2EBFA;\n",
              "      box-shadow: 0px 1px 2px rgba(60, 64, 67, 0.3), 0px 1px 3px 1px rgba(60, 64, 67, 0.15);\n",
              "      fill: #174EA6;\n",
              "    }\n",
              "\n",
              "    [theme=dark] .colab-df-convert {\n",
              "      background-color: #3B4455;\n",
              "      fill: #D2E3FC;\n",
              "    }\n",
              "\n",
              "    [theme=dark] .colab-df-convert:hover {\n",
              "      background-color: #434B5C;\n",
              "      box-shadow: 0px 1px 3px 1px rgba(0, 0, 0, 0.15);\n",
              "      filter: drop-shadow(0px 1px 2px rgba(0, 0, 0, 0.3));\n",
              "      fill: #FFFFFF;\n",
              "    }\n",
              "  </style>\n",
              "\n",
              "      <script>\n",
              "        const buttonEl =\n",
              "          document.querySelector('#df-9c4252a8-5bfe-44e7-a7cc-bac8d8b0f97a button.colab-df-convert');\n",
              "        buttonEl.style.display =\n",
              "          google.colab.kernel.accessAllowed ? 'block' : 'none';\n",
              "\n",
              "        async function convertToInteractive(key) {\n",
              "          const element = document.querySelector('#df-9c4252a8-5bfe-44e7-a7cc-bac8d8b0f97a');\n",
              "          const dataTable =\n",
              "            await google.colab.kernel.invokeFunction('convertToInteractive',\n",
              "                                                     [key], {});\n",
              "          if (!dataTable) return;\n",
              "\n",
              "          const docLinkHtml = 'Like what you see? Visit the ' +\n",
              "            '<a target=\"_blank\" href=https://colab.research.google.com/notebooks/data_table.ipynb>data table notebook</a>'\n",
              "            + ' to learn more about interactive tables.';\n",
              "          element.innerHTML = '';\n",
              "          dataTable['output_type'] = 'display_data';\n",
              "          await google.colab.output.renderOutput(dataTable, element);\n",
              "          const docLink = document.createElement('div');\n",
              "          docLink.innerHTML = docLinkHtml;\n",
              "          element.appendChild(docLink);\n",
              "        }\n",
              "      </script>\n",
              "    </div>\n",
              "  </div>\n",
              "  "
            ]
          },
          "metadata": {},
          "execution_count": 4
        }
      ]
    },
    {
      "cell_type": "code",
      "source": [
        "#dropping column 'id' as it is unnecessary\n",
        "f1.drop([\"id\"], axis=1, inplace=True)"
      ],
      "metadata": {
        "id": "7RsriNKFQsez"
      },
      "execution_count": null,
      "outputs": []
    },
    {
      "cell_type": "code",
      "source": [
        "f1.columns"
      ],
      "metadata": {
        "colab": {
          "base_uri": "https://localhost:8080/"
        },
        "id": "_--fPT83SWuI",
        "outputId": "89a91bfc-41b4-493b-d814-cd009e02203b"
      },
      "execution_count": null,
      "outputs": [
        {
          "output_type": "execute_result",
          "data": {
            "text/plain": [
              "Index(['age', 'bp', 'sg', 'al', 'su', 'rbc', 'pc', 'pcc', 'ba', 'bgr', 'bu',\n",
              "       'sc', 'sod', 'pot', 'hemo', 'pcv', 'wc', 'rc', 'htn', 'dm', 'cad',\n",
              "       'appet', 'pe', 'ane', 'classification'],\n",
              "      dtype='object')"
            ]
          },
          "metadata": {},
          "execution_count": 6
        }
      ]
    },
    {
      "cell_type": "code",
      "source": [
        "#rename column names\n",
        "f1.columns=['age', 'blood_pressure', 'specific_gravity', 'albumin', 'sugar', 'red_blood_cells', 'pus_cell', 'pus_cell_clumps', 'bacteria',\n",
        "            'blood_glucose_random', 'blood_urea', 'serum_creatinine', 'sodium', 'potassium','hemoglobin', 'packed_cell_volume', \n",
        "            'white_blood_cell_count', 'red_blood_cell_count', 'hypertension', 'diabetesmellitus', 'coronary_artery_disease', 'appetite',\n",
        "            'pedal_edema' , 'anemia', 'class'] \n",
        "cols=f1.columns\n",
        "cols"
      ],
      "metadata": {
        "colab": {
          "base_uri": "https://localhost:8080/"
        },
        "id": "B7n4UDZRSYzE",
        "outputId": "8f5a3804-de9d-4781-81b9-6fdd979dcc81"
      },
      "execution_count": null,
      "outputs": [
        {
          "output_type": "execute_result",
          "data": {
            "text/plain": [
              "Index(['age', 'blood_pressure', 'specific_gravity', 'albumin', 'sugar',\n",
              "       'red_blood_cells', 'pus_cell', 'pus_cell_clumps', 'bacteria',\n",
              "       'blood_glucose_random', 'blood_urea', 'serum_creatinine', 'sodium',\n",
              "       'potassium', 'hemoglobin', 'packed_cell_volume',\n",
              "       'white_blood_cell_count', 'red_blood_cell_count', 'hypertension',\n",
              "       'diabetesmellitus', 'coronary_artery_disease', 'appetite',\n",
              "       'pedal_edema', 'anemia', 'class'],\n",
              "      dtype='object')"
            ]
          },
          "metadata": {},
          "execution_count": 7
        }
      ]
    },
    {
      "cell_type": "markdown",
      "source": [
        "**UNDERSTANDING THE DATATYPE**"
      ],
      "metadata": {
        "id": "BK0ZRfeaWL0P"
      }
    },
    {
      "cell_type": "code",
      "source": [
        "#target column - find unique elements of the array/column\n",
        "f1['class'].unique()"
      ],
      "metadata": {
        "colab": {
          "base_uri": "https://localhost:8080/"
        },
        "id": "jD32ZjEqWagw",
        "outputId": "2ef0f8bc-0fa6-4ed1-adf1-4bd33097b08e"
      },
      "execution_count": null,
      "outputs": [
        {
          "output_type": "execute_result",
          "data": {
            "text/plain": [
              "array(['ckd', 'ckd\\t', 'notckd'], dtype=object)"
            ]
          },
          "metadata": {},
          "execution_count": 8
        }
      ]
    },
    {
      "cell_type": "code",
      "source": [
        "#rectifying the unknown class in the dataset\n",
        "f1['class']=f1['class'].replace(\"ckd\\t\", \"ckd\")\n",
        "f1['class'].unique()"
      ],
      "metadata": {
        "colab": {
          "base_uri": "https://localhost:8080/"
        },
        "id": "RJKr9w79W6LG",
        "outputId": "a212dd49-122f-4d83-f94b-3741ad36c46d"
      },
      "execution_count": null,
      "outputs": [
        {
          "output_type": "execute_result",
          "data": {
            "text/plain": [
              "array(['ckd', 'notckd'], dtype=object)"
            ]
          },
          "metadata": {},
          "execution_count": 9
        }
      ]
    },
    {
      "cell_type": "code",
      "source": [
        "#target column\n",
        "f1['class'].value_counts()"
      ],
      "metadata": {
        "colab": {
          "base_uri": "https://localhost:8080/"
        },
        "id": "HAVrBRj3XfG_",
        "outputId": "02347bb8-42b5-4ebe-b735-25f1f7d9be6a"
      },
      "execution_count": null,
      "outputs": [
        {
          "output_type": "execute_result",
          "data": {
            "text/plain": [
              "ckd       250\n",
              "notckd    150\n",
              "Name: class, dtype: int64"
            ]
          },
          "metadata": {},
          "execution_count": 10
        }
      ]
    },
    {
      "cell_type": "code",
      "source": [
        "f1['coronary_artery_disease'].value_counts()"
      ],
      "metadata": {
        "colab": {
          "base_uri": "https://localhost:8080/"
        },
        "id": "_p1ySBxBhIjK",
        "outputId": "a6cf18fa-f9f0-46ea-8c3d-70dca171a78a"
      },
      "execution_count": null,
      "outputs": [
        {
          "output_type": "execute_result",
          "data": {
            "text/plain": [
              "no      362\n",
              "yes      34\n",
              "\\tno      2\n",
              "Name: coronary_artery_disease, dtype: int64"
            ]
          },
          "metadata": {},
          "execution_count": 11
        }
      ]
    },
    {
      "cell_type": "code",
      "source": [
        "#rectifying column\n",
        "f1['coronary_artery_disease']=f1['coronary_artery_disease'].replace(\"\\tno\", \"no\")\n",
        "f1['coronary_artery_disease'].value_counts()"
      ],
      "metadata": {
        "colab": {
          "base_uri": "https://localhost:8080/"
        },
        "id": "oIRqtQNVhMvn",
        "outputId": "2ee476ba-dc16-43c0-b770-919851189263"
      },
      "execution_count": null,
      "outputs": [
        {
          "output_type": "execute_result",
          "data": {
            "text/plain": [
              "no     364\n",
              "yes     34\n",
              "Name: coronary_artery_disease, dtype: int64"
            ]
          },
          "metadata": {},
          "execution_count": 12
        }
      ]
    },
    {
      "cell_type": "code",
      "source": [
        "f1['diabetesmellitus'].value_counts()"
      ],
      "metadata": {
        "colab": {
          "base_uri": "https://localhost:8080/"
        },
        "id": "3twVcWDQhke6",
        "outputId": "ec2a57cb-02c7-48ba-953e-431c884a19c4"
      },
      "execution_count": null,
      "outputs": [
        {
          "output_type": "execute_result",
          "data": {
            "text/plain": [
              "no       258\n",
              "yes      134\n",
              "\\tno       3\n",
              "\\tyes      2\n",
              " yes       1\n",
              "Name: diabetesmellitus, dtype: int64"
            ]
          },
          "metadata": {},
          "execution_count": 13
        }
      ]
    },
    {
      "cell_type": "code",
      "source": [
        "#rectifying column\n",
        "f1['diabetesmellitus']=f1['diabetesmellitus'].replace(\"\\tno\", \"no\")\n",
        "f1['diabetesmellitus']=f1['diabetesmellitus'].replace(\"\\tyes\", \"yes\")\n",
        "f1['diabetesmellitus']=f1['diabetesmellitus'].replace(\" yes\", \"yes\")\n",
        "f1['diabetesmellitus'].value_counts()"
      ],
      "metadata": {
        "colab": {
          "base_uri": "https://localhost:8080/"
        },
        "id": "iIFH7mq1hki7",
        "outputId": "8d800a99-579c-45eb-d83e-8b0ce4f1c66e"
      },
      "execution_count": null,
      "outputs": [
        {
          "output_type": "execute_result",
          "data": {
            "text/plain": [
              "no     261\n",
              "yes    137\n",
              "Name: diabetesmellitus, dtype: int64"
            ]
          },
          "metadata": {},
          "execution_count": 14
        }
      ]
    },
    {
      "cell_type": "markdown",
      "source": [
        "**CHECK CATEGORICAL AND NUMERICAL DATA**"
      ],
      "metadata": {
        "id": "6F7_scgch_Gm"
      }
    },
    {
      "cell_type": "code",
      "source": [
        "num_cols = f1.select_dtypes(include='number').columns\n",
        "num_cols"
      ],
      "metadata": {
        "colab": {
          "base_uri": "https://localhost:8080/"
        },
        "id": "McPd9bTxe4zC",
        "outputId": "e0f5b3ad-f28b-428f-a3a3-cbf64051cd01"
      },
      "execution_count": null,
      "outputs": [
        {
          "output_type": "execute_result",
          "data": {
            "text/plain": [
              "Index(['age', 'blood_pressure', 'specific_gravity', 'albumin', 'sugar',\n",
              "       'blood_glucose_random', 'blood_urea', 'serum_creatinine', 'sodium',\n",
              "       'potassium', 'hemoglobin'],\n",
              "      dtype='object')"
            ]
          },
          "metadata": {},
          "execution_count": 15
        }
      ]
    },
    {
      "cell_type": "code",
      "source": [
        "cat_cols= f1.select_dtypes(include='object').columns\n",
        "cat_cols"
      ],
      "metadata": {
        "colab": {
          "base_uri": "https://localhost:8080/"
        },
        "id": "KKeYBWX_fMMV",
        "outputId": "a8557ea4-cfb4-4b92-ee39-32f9f0c40b03"
      },
      "execution_count": null,
      "outputs": [
        {
          "output_type": "execute_result",
          "data": {
            "text/plain": [
              "Index(['red_blood_cells', 'pus_cell', 'pus_cell_clumps', 'bacteria',\n",
              "       'packed_cell_volume', 'white_blood_cell_count', 'red_blood_cell_count',\n",
              "       'hypertension', 'diabetesmellitus', 'coronary_artery_disease',\n",
              "       'appetite', 'pedal_edema', 'anemia', 'class'],\n",
              "      dtype='object')"
            ]
          },
          "metadata": {},
          "execution_count": 16
        }
      ]
    },
    {
      "cell_type": "markdown",
      "source": [
        "**HANDLING THE MISSING VALUES**"
      ],
      "metadata": {
        "id": "GS-zM5EG9ZM5"
      }
    },
    {
      "cell_type": "code",
      "source": [
        "#conversion of numerical data(string format to numeric)\n",
        "f1.packed_cell_volume = pd.to_numeric(f1.packed_cell_volume, errors=\"coerce\")\n",
        "f1.white_blood_cell_count = pd.to_numeric(f1.white_blood_cell_count, errors=\"coerce\")\n",
        "f1.red_blood_cell_count = pd.to_numeric(f1.red_blood_cell_count, errors=\"coerce\")"
      ],
      "metadata": {
        "id": "whz-dztO9jmS"
      },
      "execution_count": null,
      "outputs": []
    },
    {
      "cell_type": "code",
      "source": [
        "#check if any column is null\n",
        "'''\n",
        "True : null present\n",
        "False: non-null\n",
        "'''\n",
        "f1.isnull().any()"
      ],
      "metadata": {
        "colab": {
          "base_uri": "https://localhost:8080/"
        },
        "id": "lyYinzoe-LQg",
        "outputId": "0ecf803e-cd80-4896-ffd7-bb958b91e8f2"
      },
      "execution_count": null,
      "outputs": [
        {
          "output_type": "execute_result",
          "data": {
            "text/plain": [
              "age                         True\n",
              "blood_pressure              True\n",
              "specific_gravity            True\n",
              "albumin                     True\n",
              "sugar                       True\n",
              "red_blood_cells             True\n",
              "pus_cell                    True\n",
              "pus_cell_clumps             True\n",
              "bacteria                    True\n",
              "blood_glucose_random        True\n",
              "blood_urea                  True\n",
              "serum_creatinine            True\n",
              "sodium                      True\n",
              "potassium                   True\n",
              "hemoglobin                  True\n",
              "packed_cell_volume          True\n",
              "white_blood_cell_count      True\n",
              "red_blood_cell_count        True\n",
              "hypertension                True\n",
              "diabetesmellitus            True\n",
              "coronary_artery_disease     True\n",
              "appetite                    True\n",
              "pedal_edema                 True\n",
              "anemia                      True\n",
              "class                      False\n",
              "dtype: bool"
            ]
          },
          "metadata": {},
          "execution_count": 18
        }
      ]
    },
    {
      "cell_type": "code",
      "source": [
        "#handle missing values\n",
        "f1[ \"blood_pressure\"].fillna(f1[\"blood_pressure\"].mean(),inplace=True)\n",
        "f1[ \"blood_glucose_random\"].fillna(f1[\"blood_glucose_random\"].mean(),inplace=True)\n",
        "f1[ \"blood_urea\"].fillna(f1[\"blood_urea\"].mean(),inplace=True)\n",
        "f1[ \"serum_creatinine\"].fillna(f1[\"serum_creatinine\"].mean(),inplace=True)\n",
        "f1[ \"sodium\"].fillna(f1[\"sodium\"].mean(),inplace=True)\n",
        "f1[ \"potassium\"].fillna(f1[\"potassium\"].mean(),inplace=True)\n",
        "f1[ \"hemoglobin\"].fillna(f1[\"hemoglobin\"].mean(),inplace=True)\n",
        "f1[ \"packed_cell_volume\"].fillna(f1[\"packed_cell_volume\"].mean(),inplace=True)\n",
        "f1[ \"white_blood_cell_count\"].fillna(f1[\"white_blood_cell_count\"].mean(),inplace=True)\n",
        "f1[ \"red_blood_cell_count\"].fillna(f1[\"red_blood_cell_count\"].mean(),inplace=True) "
      ],
      "metadata": {
        "id": "N73AV7Ss-eOc"
      },
      "execution_count": null,
      "outputs": []
    },
    {
      "cell_type": "code",
      "source": [
        "#handle missing values\n",
        "f1[ \"age\"].fillna(f1[\"age\"].mode()[0],inplace=True)\n",
        "f1[ \"specific_gravity\"].fillna(f1[\"specific_gravity\"].mode()[0],inplace=True)\n",
        "f1[ \"albumin\"].fillna(f1[\"albumin\"].mode()[0],inplace=True)\n",
        "f1[ \"sugar\"].fillna(f1[\"sugar\"].mode()[0],inplace=True)\n",
        "f1[ \"red_blood_cells\"].fillna(f1[\"red_blood_cells\"].mode()[0],inplace=True)\n",
        "f1[ \"pus_cell\"].fillna(f1[\"pus_cell\"].mode()[0],inplace=True)\n",
        "f1[ \"pus_cell_clumps\"].fillna(f1[\"pus_cell_clumps\"].mode()[0],inplace=True)\n",
        "f1[ \"bacteria\"].fillna(f1[\"bacteria\"].mode()[0],inplace=True)\n",
        "f1[ \"diabetesmellitus\"].fillna(f1[\"diabetesmellitus\"].mode()[0],inplace=True)\n",
        "f1[ \"coronary_artery_disease\"].fillna(f1[\"coronary_artery_disease\"].mode()[0],inplace=True) \n",
        "f1[ \"appetite\"].fillna(f1[\"appetite\"].mode()[0],inplace=True) \n",
        "f1[ \"pedal_edema\"].fillna(f1[\"pedal_edema\"].mode()[0],inplace=True) \n",
        "f1[ \"anemia\"].fillna(f1[\"anemia\"].mode()[0],inplace=True)\n",
        "f1[ \"hypertension\"].fillna(f1[\"hypertension\"].mode()[0],inplace=True)"
      ],
      "metadata": {
        "id": "BYrugct0BlkP"
      },
      "execution_count": null,
      "outputs": []
    },
    {
      "cell_type": "code",
      "source": [
        "f1.isnull().any()"
      ],
      "metadata": {
        "colab": {
          "base_uri": "https://localhost:8080/"
        },
        "id": "FTiJK5z2DpYh",
        "outputId": "aac421c2-b157-4a90-a3c9-b87b648cacf0"
      },
      "execution_count": null,
      "outputs": [
        {
          "output_type": "execute_result",
          "data": {
            "text/plain": [
              "age                        False\n",
              "blood_pressure             False\n",
              "specific_gravity           False\n",
              "albumin                    False\n",
              "sugar                      False\n",
              "red_blood_cells            False\n",
              "pus_cell                   False\n",
              "pus_cell_clumps            False\n",
              "bacteria                   False\n",
              "blood_glucose_random       False\n",
              "blood_urea                 False\n",
              "serum_creatinine           False\n",
              "sodium                     False\n",
              "potassium                  False\n",
              "hemoglobin                 False\n",
              "packed_cell_volume         False\n",
              "white_blood_cell_count     False\n",
              "red_blood_cell_count       False\n",
              "hypertension               False\n",
              "diabetesmellitus           False\n",
              "coronary_artery_disease    False\n",
              "appetite                   False\n",
              "pedal_edema                False\n",
              "anemia                     False\n",
              "class                      False\n",
              "dtype: bool"
            ]
          },
          "metadata": {},
          "execution_count": 21
        }
      ]
    },
    {
      "cell_type": "markdown",
      "source": [
        "**LABEL ENCODING**"
      ],
      "metadata": {
        "id": "zNbrAzrVD08z"
      }
    },
    {
      "cell_type": "code",
      "source": [
        "from sklearn.preprocessing import LabelEncoder\n",
        "from collections import Counter\n",
        "for i in cat_cols: \n",
        "   print(\"LABEL ENCODING OF: \",i)\n",
        "   encod=LabelEncoder()\n",
        "   print(Counter(f1[i])) \n",
        "   f1[i] = encod.fit_transform(f1[i])  \n",
        "   print(Counter(f1[i])) \n",
        "   print(\"*\"*100)"
      ],
      "metadata": {
        "colab": {
          "base_uri": "https://localhost:8080/"
        },
        "id": "kTOItCt8D4Je",
        "outputId": "7e2b01cc-b864-4e97-8d4d-a5fbaa11636f"
      },
      "execution_count": null,
      "outputs": [
        {
          "output_type": "stream",
          "name": "stdout",
          "text": [
            "LABEL ENCODING OF:  red_blood_cells\n",
            "Counter({'normal': 353, 'abnormal': 47})\n",
            "Counter({1: 353, 0: 47})\n",
            "****************************************************************************************************\n",
            "LABEL ENCODING OF:  pus_cell\n",
            "Counter({'normal': 324, 'abnormal': 76})\n",
            "Counter({1: 324, 0: 76})\n",
            "****************************************************************************************************\n",
            "LABEL ENCODING OF:  pus_cell_clumps\n",
            "Counter({'notpresent': 358, 'present': 42})\n",
            "Counter({0: 358, 1: 42})\n",
            "****************************************************************************************************\n",
            "LABEL ENCODING OF:  bacteria\n",
            "Counter({'notpresent': 378, 'present': 22})\n",
            "Counter({0: 378, 1: 22})\n",
            "****************************************************************************************************\n",
            "LABEL ENCODING OF:  packed_cell_volume\n",
            "Counter({38.88449848024316: 71, 52.0: 21, 41.0: 21, 44.0: 19, 48.0: 19, 40.0: 16, 43.0: 15, 45.0: 13, 42.0: 13, 32.0: 12, 36.0: 12, 33.0: 12, 28.0: 12, 50.0: 12, 37.0: 11, 34.0: 11, 35.0: 9, 29.0: 9, 30.0: 9, 46.0: 9, 31.0: 8, 39.0: 7, 24.0: 7, 26.0: 6, 38.0: 5, 47.0: 4, 49.0: 4, 53.0: 4, 51.0: 4, 54.0: 4, 27.0: 3, 22.0: 3, 25.0: 3, 23.0: 2, 19.0: 2, 16.0: 1, 14.0: 1, 18.0: 1, 17.0: 1, 15.0: 1, 21.0: 1, 20.0: 1, 9.0: 1})\n",
            "Counter({26: 71, 40: 21, 29: 21, 32: 19, 36: 19, 28: 16, 31: 15, 33: 13, 30: 13, 19: 12, 23: 12, 20: 12, 15: 12, 38: 12, 24: 11, 21: 11, 22: 9, 16: 9, 17: 9, 34: 9, 18: 8, 27: 7, 11: 7, 13: 6, 25: 5, 35: 4, 37: 4, 41: 4, 39: 4, 42: 4, 14: 3, 9: 3, 12: 3, 10: 2, 6: 2, 3: 1, 1: 1, 5: 1, 4: 1, 2: 1, 8: 1, 7: 1, 0: 1})\n",
            "****************************************************************************************************\n",
            "LABEL ENCODING OF:  white_blood_cell_count\n",
            "Counter({8406.122448979591: 106, 9800.0: 11, 6700.0: 10, 9600.0: 9, 9200.0: 9, 7200.0: 9, 6900.0: 8, 11000.0: 8, 5800.0: 8, 7800.0: 7, 9100.0: 7, 9400.0: 7, 7000.0: 7, 4300.0: 6, 6300.0: 6, 10700.0: 6, 10500.0: 6, 7500.0: 5, 6200.0: 5, 8300.0: 5, 7900.0: 5, 8600.0: 5, 5600.0: 5, 10200.0: 5, 5000.0: 5, 8100.0: 5, 9500.0: 5, 6000.0: 4, 8400.0: 4, 10300.0: 4, 7700.0: 4, 5500.0: 4, 10400.0: 4, 6800.0: 4, 6500.0: 4, 4700.0: 4, 7300.0: 3, 4500.0: 3, 6400.0: 3, 4200.0: 3, 7400.0: 3, 8000.0: 3, 5400.0: 3, 3800.0: 2, 11400.0: 2, 5300.0: 2, 8500.0: 2, 14600.0: 2, 7100.0: 2, 13200.0: 2, 9000.0: 2, 8200.0: 2, 15200.0: 2, 12400.0: 2, 12800.0: 2, 8800.0: 2, 5700.0: 2, 9300.0: 2, 6600.0: 2, 12100.0: 1, 12200.0: 1, 18900.0: 1, 21600.0: 1, 11300.0: 1, 11800.0: 1, 12500.0: 1, 11900.0: 1, 12700.0: 1, 13600.0: 1, 14900.0: 1, 16300.0: 1, 10900.0: 1, 2200.0: 1, 11200.0: 1, 19100.0: 1, 12300.0: 1, 16700.0: 1, 2600.0: 1, 26400.0: 1, 4900.0: 1, 12000.0: 1, 15700.0: 1, 4100.0: 1, 11500.0: 1, 10800.0: 1, 9900.0: 1, 5200.0: 1, 5900.0: 1, 9700.0: 1, 5100.0: 1})\n",
            "Counter({42: 106, 54: 11, 25: 10, 52: 9, 48: 9, 30: 9, 27: 8, 63: 8, 17: 8, 35: 7, 47: 7, 50: 7, 28: 7, 5: 6, 21: 6, 60: 6, 59: 6, 33: 5, 20: 5, 40: 5, 36: 5, 44: 5, 15: 5, 56: 5, 9: 5, 38: 5, 51: 5, 19: 4, 41: 4, 57: 4, 34: 4, 14: 4, 58: 4, 26: 4, 23: 4, 7: 4, 31: 3, 6: 3, 22: 3, 4: 3, 32: 3, 37: 3, 13: 3, 2: 2, 66: 2, 12: 2, 43: 2, 80: 2, 29: 2, 78: 2, 46: 2, 39: 2, 82: 2, 74: 2, 77: 2, 45: 2, 16: 2, 49: 2, 24: 2, 71: 1, 72: 1, 86: 1, 88: 1, 65: 1, 68: 1, 75: 1, 69: 1, 76: 1, 79: 1, 81: 1, 84: 1, 62: 1, 0: 1, 64: 1, 87: 1, 73: 1, 85: 1, 1: 1, 89: 1, 8: 1, 70: 1, 83: 1, 3: 1, 67: 1, 61: 1, 55: 1, 11: 1, 18: 1, 53: 1, 10: 1})\n",
            "****************************************************************************************************\n",
            "LABEL ENCODING OF:  red_blood_cell_count\n",
            "Counter({4.707434944237917: 131, 5.2: 18, 4.5: 16, 4.9: 14, 4.7: 11, 3.9: 10, 5.0: 10, 4.8: 10, 4.6: 9, 3.4: 9, 3.7: 8, 6.1: 8, 5.5: 8, 5.9: 8, 3.8: 7, 5.4: 7, 5.8: 7, 5.3: 7, 4.0: 6, 4.3: 6, 4.2: 6, 5.6: 6, 4.4: 5, 3.2: 5, 4.1: 5, 6.2: 5, 5.1: 5, 6.4: 5, 5.7: 5, 6.5: 5, 3.6: 4, 6.0: 4, 6.3: 4, 3.5: 3, 3.3: 3, 3.0: 3, 2.6: 2, 2.8: 2, 2.5: 2, 3.1: 2, 2.1: 2, 2.9: 2, 2.7: 2, 2.3: 1, 8.0: 1, 2.4: 1})\n",
            "Counter({26: 131, 31: 18, 23: 16, 28: 14, 25: 11, 17: 10, 29: 10, 27: 10, 24: 9, 12: 9, 15: 8, 40: 8, 34: 8, 38: 8, 16: 7, 33: 7, 37: 7, 32: 7, 18: 6, 21: 6, 20: 6, 35: 6, 22: 5, 10: 5, 19: 5, 41: 5, 30: 5, 43: 5, 36: 5, 44: 5, 14: 4, 39: 4, 42: 4, 13: 3, 11: 3, 8: 3, 4: 2, 6: 2, 3: 2, 9: 2, 0: 2, 7: 2, 5: 2, 1: 1, 45: 1, 2: 1})\n",
            "****************************************************************************************************\n",
            "LABEL ENCODING OF:  hypertension\n",
            "Counter({'no': 253, 'yes': 147})\n",
            "Counter({0: 253, 1: 147})\n",
            "****************************************************************************************************\n",
            "LABEL ENCODING OF:  diabetesmellitus\n",
            "Counter({'no': 263, 'yes': 137})\n",
            "Counter({0: 263, 1: 137})\n",
            "****************************************************************************************************\n",
            "LABEL ENCODING OF:  coronary_artery_disease\n",
            "Counter({'no': 366, 'yes': 34})\n",
            "Counter({0: 366, 1: 34})\n",
            "****************************************************************************************************\n",
            "LABEL ENCODING OF:  appetite\n",
            "Counter({'good': 318, 'poor': 82})\n",
            "Counter({0: 318, 1: 82})\n",
            "****************************************************************************************************\n",
            "LABEL ENCODING OF:  pedal_edema\n",
            "Counter({'no': 324, 'yes': 76})\n",
            "Counter({0: 324, 1: 76})\n",
            "****************************************************************************************************\n",
            "LABEL ENCODING OF:  anemia\n",
            "Counter({'no': 340, 'yes': 60})\n",
            "Counter({0: 340, 1: 60})\n",
            "****************************************************************************************************\n",
            "LABEL ENCODING OF:  class\n",
            "Counter({'ckd': 250, 'notckd': 150})\n",
            "Counter({0: 250, 1: 150})\n",
            "****************************************************************************************************\n"
          ]
        }
      ]
    },
    {
      "cell_type": "markdown",
      "source": [
        "**SPLITTING THE DATA IN INDEPENDENT AND DEPENDENT VARIABLES**"
      ],
      "metadata": {
        "id": "lXXvemHstqyd"
      }
    },
    {
      "cell_type": "code",
      "source": [
        "xcols=['age', 'blood_pressure', 'specific_gravity', 'albumin', 'sugar',\n",
        "       'red_blood_cells', 'pus_cell', 'pus_cell_clumps', 'bacteria',\n",
        "       'blood_glucose_random', 'blood_urea', 'serum_creatinine', 'sodium',\n",
        "       'potassium', 'hemoglobin', 'packed_cell_volume',\n",
        "       'white_blood_cell_count', 'red_blood_cell_count', 'hypertension',\n",
        "       'diabetesmellitus', 'coronary_artery_disease', 'appetite','pedal_edema','anemia']\n",
        "\n",
        "x=pd.DataFrame(f1, columns=xcols)\n",
        "y=pd.DataFrame(f1, columns=['class'])\n",
        "print(x.shape)\n",
        "print(y.shape)"
      ],
      "metadata": {
        "id": "RTwfUZCtsRtp",
        "colab": {
          "base_uri": "https://localhost:8080/"
        },
        "outputId": "adb7babf-ecb0-4454-a2bf-955281eb795f"
      },
      "execution_count": null,
      "outputs": [
        {
          "output_type": "stream",
          "name": "stdout",
          "text": [
            "(400, 24)\n",
            "(400, 1)\n"
          ]
        }
      ]
    },
    {
      "cell_type": "markdown",
      "source": [
        "**SPLIT INTO TRAIN AND TEST SET**"
      ],
      "metadata": {
        "id": "DDIecQHPvQFt"
      }
    },
    {
      "cell_type": "code",
      "source": [
        "from sklearn.model_selection import train_test_split\n",
        "x_train,x_test,y_train,y_test=train_test_split(x,y,test_size=0.3, random_state=2) \n",
        "print(x_train.shape)\n",
        "print(y_train.shape)\n",
        "print(x_test.shape)\n",
        "print(y_test.shape)"
      ],
      "metadata": {
        "colab": {
          "base_uri": "https://localhost:8080/"
        },
        "id": "xy2UlieEvOuR",
        "outputId": "75e0acff-d31c-4ca8-c6bb-5970061ebfaa"
      },
      "execution_count": null,
      "outputs": [
        {
          "output_type": "stream",
          "name": "stdout",
          "text": [
            "(280, 24)\n",
            "(280, 1)\n",
            "(120, 24)\n",
            "(120, 1)\n"
          ]
        }
      ]
    },
    {
      "cell_type": "markdown",
      "source": [
        "**MODEL BUILDING**"
      ],
      "metadata": {
        "id": "GpD_wdz4KyT7"
      }
    },
    {
      "cell_type": "markdown",
      "source": [
        "**a) LOGISTIC REGRESSION**"
      ],
      "metadata": {
        "id": "DziNRwAJLA8U"
      }
    },
    {
      "cell_type": "code",
      "source": [
        "from sklearn. linear_model import LogisticRegression\n",
        "logreg= LogisticRegression()\n",
        "logreg.fit(x_train, y_train.values.ravel())"
      ],
      "metadata": {
        "colab": {
          "base_uri": "https://localhost:8080/"
        },
        "id": "SHlazvC1vydK",
        "outputId": "09fd6d1c-e81a-46ed-eaf7-922c30f4bd0d"
      },
      "execution_count": null,
      "outputs": [
        {
          "output_type": "stream",
          "name": "stderr",
          "text": [
            "/usr/local/lib/python3.7/dist-packages/sklearn/linear_model/_logistic.py:818: ConvergenceWarning: lbfgs failed to converge (status=1):\n",
            "STOP: TOTAL NO. of ITERATIONS REACHED LIMIT.\n",
            "\n",
            "Increase the number of iterations (max_iter) or scale the data as shown in:\n",
            "    https://scikit-learn.org/stable/modules/preprocessing.html\n",
            "Please also refer to the documentation for alternative solver options:\n",
            "    https://scikit-learn.org/stable/modules/linear_model.html#logistic-regression\n",
            "  extra_warning_msg=_LOGISTIC_SOLVER_CONVERGENCE_MSG,\n"
          ]
        },
        {
          "output_type": "execute_result",
          "data": {
            "text/plain": [
              "LogisticRegression()"
            ]
          },
          "metadata": {},
          "execution_count": 25
        }
      ]
    },
    {
      "cell_type": "code",
      "source": [
        "x_test.head()"
      ],
      "metadata": {
        "colab": {
          "base_uri": "https://localhost:8080/",
          "height": 248
        },
        "id": "g2N7ERL9gaf0",
        "outputId": "4699dcda-f453-4224-9be1-207d93e35aec"
      },
      "execution_count": null,
      "outputs": [
        {
          "output_type": "execute_result",
          "data": {
            "text/plain": [
              "      age  blood_pressure  specific_gravity  albumin  sugar  red_blood_cells  \\\n",
              "94   65.0            70.0             1.010      0.0    0.0                1   \n",
              "32   61.0            90.0             1.010      1.0    1.0                1   \n",
              "225  60.0            90.0             1.010      3.0    5.0                0   \n",
              "157  62.0            70.0             1.025      3.0    0.0                1   \n",
              "356  34.0            70.0             1.025      0.0    0.0                1   \n",
              "\n",
              "     pus_cell  pus_cell_clumps  bacteria  blood_glucose_random  ...  \\\n",
              "94          1                0         0                  93.0  ...   \n",
              "32          1                0         0                 159.0  ...   \n",
              "225         1                0         1                 490.0  ...   \n",
              "157         0                0         0                 122.0  ...   \n",
              "356         1                0         0                  87.0  ...   \n",
              "\n",
              "     hemoglobin  packed_cell_volume  white_blood_cell_count  \\\n",
              "94         11.6                  23                      69   \n",
              "32         11.3                  21                      52   \n",
              "225        11.5                  22                      70   \n",
              "157        12.6                  27                      36   \n",
              "356        17.1                  35                      32   \n",
              "\n",
              "     red_blood_cell_count  hypertension  diabetesmellitus  \\\n",
              "94                     17             0                 1   \n",
              "32                     18             1                 1   \n",
              "225                    23             1                 1   \n",
              "157                    17             1                 1   \n",
              "356                    40             0                 0   \n",
              "\n",
              "     coronary_artery_disease  appetite  pedal_edema  anemia  \n",
              "94                         0         0            0       0  \n",
              "32                         0         1            0       0  \n",
              "225                        0         0            0       0  \n",
              "157                        0         0            0       0  \n",
              "356                        0         0            0       0  \n",
              "\n",
              "[5 rows x 24 columns]"
            ],
            "text/html": [
              "\n",
              "  <div id=\"df-b77e0c9f-d591-4f2e-bd5d-9cf62f79ef2b\">\n",
              "    <div class=\"colab-df-container\">\n",
              "      <div>\n",
              "<style scoped>\n",
              "    .dataframe tbody tr th:only-of-type {\n",
              "        vertical-align: middle;\n",
              "    }\n",
              "\n",
              "    .dataframe tbody tr th {\n",
              "        vertical-align: top;\n",
              "    }\n",
              "\n",
              "    .dataframe thead th {\n",
              "        text-align: right;\n",
              "    }\n",
              "</style>\n",
              "<table border=\"1\" class=\"dataframe\">\n",
              "  <thead>\n",
              "    <tr style=\"text-align: right;\">\n",
              "      <th></th>\n",
              "      <th>age</th>\n",
              "      <th>blood_pressure</th>\n",
              "      <th>specific_gravity</th>\n",
              "      <th>albumin</th>\n",
              "      <th>sugar</th>\n",
              "      <th>red_blood_cells</th>\n",
              "      <th>pus_cell</th>\n",
              "      <th>pus_cell_clumps</th>\n",
              "      <th>bacteria</th>\n",
              "      <th>blood_glucose_random</th>\n",
              "      <th>...</th>\n",
              "      <th>hemoglobin</th>\n",
              "      <th>packed_cell_volume</th>\n",
              "      <th>white_blood_cell_count</th>\n",
              "      <th>red_blood_cell_count</th>\n",
              "      <th>hypertension</th>\n",
              "      <th>diabetesmellitus</th>\n",
              "      <th>coronary_artery_disease</th>\n",
              "      <th>appetite</th>\n",
              "      <th>pedal_edema</th>\n",
              "      <th>anemia</th>\n",
              "    </tr>\n",
              "  </thead>\n",
              "  <tbody>\n",
              "    <tr>\n",
              "      <th>94</th>\n",
              "      <td>65.0</td>\n",
              "      <td>70.0</td>\n",
              "      <td>1.010</td>\n",
              "      <td>0.0</td>\n",
              "      <td>0.0</td>\n",
              "      <td>1</td>\n",
              "      <td>1</td>\n",
              "      <td>0</td>\n",
              "      <td>0</td>\n",
              "      <td>93.0</td>\n",
              "      <td>...</td>\n",
              "      <td>11.6</td>\n",
              "      <td>23</td>\n",
              "      <td>69</td>\n",
              "      <td>17</td>\n",
              "      <td>0</td>\n",
              "      <td>1</td>\n",
              "      <td>0</td>\n",
              "      <td>0</td>\n",
              "      <td>0</td>\n",
              "      <td>0</td>\n",
              "    </tr>\n",
              "    <tr>\n",
              "      <th>32</th>\n",
              "      <td>61.0</td>\n",
              "      <td>90.0</td>\n",
              "      <td>1.010</td>\n",
              "      <td>1.0</td>\n",
              "      <td>1.0</td>\n",
              "      <td>1</td>\n",
              "      <td>1</td>\n",
              "      <td>0</td>\n",
              "      <td>0</td>\n",
              "      <td>159.0</td>\n",
              "      <td>...</td>\n",
              "      <td>11.3</td>\n",
              "      <td>21</td>\n",
              "      <td>52</td>\n",
              "      <td>18</td>\n",
              "      <td>1</td>\n",
              "      <td>1</td>\n",
              "      <td>0</td>\n",
              "      <td>1</td>\n",
              "      <td>0</td>\n",
              "      <td>0</td>\n",
              "    </tr>\n",
              "    <tr>\n",
              "      <th>225</th>\n",
              "      <td>60.0</td>\n",
              "      <td>90.0</td>\n",
              "      <td>1.010</td>\n",
              "      <td>3.0</td>\n",
              "      <td>5.0</td>\n",
              "      <td>0</td>\n",
              "      <td>1</td>\n",
              "      <td>0</td>\n",
              "      <td>1</td>\n",
              "      <td>490.0</td>\n",
              "      <td>...</td>\n",
              "      <td>11.5</td>\n",
              "      <td>22</td>\n",
              "      <td>70</td>\n",
              "      <td>23</td>\n",
              "      <td>1</td>\n",
              "      <td>1</td>\n",
              "      <td>0</td>\n",
              "      <td>0</td>\n",
              "      <td>0</td>\n",
              "      <td>0</td>\n",
              "    </tr>\n",
              "    <tr>\n",
              "      <th>157</th>\n",
              "      <td>62.0</td>\n",
              "      <td>70.0</td>\n",
              "      <td>1.025</td>\n",
              "      <td>3.0</td>\n",
              "      <td>0.0</td>\n",
              "      <td>1</td>\n",
              "      <td>0</td>\n",
              "      <td>0</td>\n",
              "      <td>0</td>\n",
              "      <td>122.0</td>\n",
              "      <td>...</td>\n",
              "      <td>12.6</td>\n",
              "      <td>27</td>\n",
              "      <td>36</td>\n",
              "      <td>17</td>\n",
              "      <td>1</td>\n",
              "      <td>1</td>\n",
              "      <td>0</td>\n",
              "      <td>0</td>\n",
              "      <td>0</td>\n",
              "      <td>0</td>\n",
              "    </tr>\n",
              "    <tr>\n",
              "      <th>356</th>\n",
              "      <td>34.0</td>\n",
              "      <td>70.0</td>\n",
              "      <td>1.025</td>\n",
              "      <td>0.0</td>\n",
              "      <td>0.0</td>\n",
              "      <td>1</td>\n",
              "      <td>1</td>\n",
              "      <td>0</td>\n",
              "      <td>0</td>\n",
              "      <td>87.0</td>\n",
              "      <td>...</td>\n",
              "      <td>17.1</td>\n",
              "      <td>35</td>\n",
              "      <td>32</td>\n",
              "      <td>40</td>\n",
              "      <td>0</td>\n",
              "      <td>0</td>\n",
              "      <td>0</td>\n",
              "      <td>0</td>\n",
              "      <td>0</td>\n",
              "      <td>0</td>\n",
              "    </tr>\n",
              "  </tbody>\n",
              "</table>\n",
              "<p>5 rows × 24 columns</p>\n",
              "</div>\n",
              "      <button class=\"colab-df-convert\" onclick=\"convertToInteractive('df-b77e0c9f-d591-4f2e-bd5d-9cf62f79ef2b')\"\n",
              "              title=\"Convert this dataframe to an interactive table.\"\n",
              "              style=\"display:none;\">\n",
              "        \n",
              "  <svg xmlns=\"http://www.w3.org/2000/svg\" height=\"24px\"viewBox=\"0 0 24 24\"\n",
              "       width=\"24px\">\n",
              "    <path d=\"M0 0h24v24H0V0z\" fill=\"none\"/>\n",
              "    <path d=\"M18.56 5.44l.94 2.06.94-2.06 2.06-.94-2.06-.94-.94-2.06-.94 2.06-2.06.94zm-11 1L8.5 8.5l.94-2.06 2.06-.94-2.06-.94L8.5 2.5l-.94 2.06-2.06.94zm10 10l.94 2.06.94-2.06 2.06-.94-2.06-.94-.94-2.06-.94 2.06-2.06.94z\"/><path d=\"M17.41 7.96l-1.37-1.37c-.4-.4-.92-.59-1.43-.59-.52 0-1.04.2-1.43.59L10.3 9.45l-7.72 7.72c-.78.78-.78 2.05 0 2.83L4 21.41c.39.39.9.59 1.41.59.51 0 1.02-.2 1.41-.59l7.78-7.78 2.81-2.81c.8-.78.8-2.07 0-2.86zM5.41 20L4 18.59l7.72-7.72 1.47 1.35L5.41 20z\"/>\n",
              "  </svg>\n",
              "      </button>\n",
              "      \n",
              "  <style>\n",
              "    .colab-df-container {\n",
              "      display:flex;\n",
              "      flex-wrap:wrap;\n",
              "      gap: 12px;\n",
              "    }\n",
              "\n",
              "    .colab-df-convert {\n",
              "      background-color: #E8F0FE;\n",
              "      border: none;\n",
              "      border-radius: 50%;\n",
              "      cursor: pointer;\n",
              "      display: none;\n",
              "      fill: #1967D2;\n",
              "      height: 32px;\n",
              "      padding: 0 0 0 0;\n",
              "      width: 32px;\n",
              "    }\n",
              "\n",
              "    .colab-df-convert:hover {\n",
              "      background-color: #E2EBFA;\n",
              "      box-shadow: 0px 1px 2px rgba(60, 64, 67, 0.3), 0px 1px 3px 1px rgba(60, 64, 67, 0.15);\n",
              "      fill: #174EA6;\n",
              "    }\n",
              "\n",
              "    [theme=dark] .colab-df-convert {\n",
              "      background-color: #3B4455;\n",
              "      fill: #D2E3FC;\n",
              "    }\n",
              "\n",
              "    [theme=dark] .colab-df-convert:hover {\n",
              "      background-color: #434B5C;\n",
              "      box-shadow: 0px 1px 3px 1px rgba(0, 0, 0, 0.15);\n",
              "      filter: drop-shadow(0px 1px 2px rgba(0, 0, 0, 0.3));\n",
              "      fill: #FFFFFF;\n",
              "    }\n",
              "  </style>\n",
              "\n",
              "      <script>\n",
              "        const buttonEl =\n",
              "          document.querySelector('#df-b77e0c9f-d591-4f2e-bd5d-9cf62f79ef2b button.colab-df-convert');\n",
              "        buttonEl.style.display =\n",
              "          google.colab.kernel.accessAllowed ? 'block' : 'none';\n",
              "\n",
              "        async function convertToInteractive(key) {\n",
              "          const element = document.querySelector('#df-b77e0c9f-d591-4f2e-bd5d-9cf62f79ef2b');\n",
              "          const dataTable =\n",
              "            await google.colab.kernel.invokeFunction('convertToInteractive',\n",
              "                                                     [key], {});\n",
              "          if (!dataTable) return;\n",
              "\n",
              "          const docLinkHtml = 'Like what you see? Visit the ' +\n",
              "            '<a target=\"_blank\" href=https://colab.research.google.com/notebooks/data_table.ipynb>data table notebook</a>'\n",
              "            + ' to learn more about interactive tables.';\n",
              "          element.innerHTML = '';\n",
              "          dataTable['output_type'] = 'display_data';\n",
              "          await google.colab.output.renderOutput(dataTable, element);\n",
              "          const docLink = document.createElement('div');\n",
              "          docLink.innerHTML = docLinkHtml;\n",
              "          element.appendChild(docLink);\n",
              "        }\n",
              "      </script>\n",
              "    </div>\n",
              "  </div>\n",
              "  "
            ]
          },
          "metadata": {},
          "execution_count": 26
        },
        {
          "output_type": "stream",
          "name": "stdout",
          "text": [
            "Warning: Total number of columns (24) exceeds max_columns (20) limiting to first (20) columns.\n"
          ]
        }
      ]
    },
    {
      "cell_type": "code",
      "source": [
        "x_test.iloc[4,-6:]"
      ],
      "metadata": {
        "colab": {
          "base_uri": "https://localhost:8080/"
        },
        "id": "10PzJIBAj2Ot",
        "outputId": "3e40f6e8-c129-4480-87b7-789db6f86a5c"
      },
      "execution_count": null,
      "outputs": [
        {
          "output_type": "execute_result",
          "data": {
            "text/plain": [
              "hypertension               0.0\n",
              "diabetesmellitus           0.0\n",
              "coronary_artery_disease    0.0\n",
              "appetite                   0.0\n",
              "pedal_edema                0.0\n",
              "anemia                     0.0\n",
              "Name: 356, dtype: float64"
            ]
          },
          "metadata": {},
          "execution_count": 27
        }
      ]
    },
    {
      "cell_type": "code",
      "source": [
        "logreg.predict(x_test)"
      ],
      "metadata": {
        "colab": {
          "base_uri": "https://localhost:8080/"
        },
        "id": "KM_qEu88fYxP",
        "outputId": "a3234c1c-5cbc-4b79-f25e-51c226e59393"
      },
      "execution_count": null,
      "outputs": [
        {
          "output_type": "execute_result",
          "data": {
            "text/plain": [
              "array([0, 0, 0, 0, 1, 0, 0, 0, 1, 0, 0, 0, 0, 1, 0, 0, 0, 1, 1, 0, 1, 1,\n",
              "       0, 1, 0, 1, 0, 0, 1, 0, 0, 1, 0, 0, 0, 0, 1, 0, 0, 1, 0, 1, 0, 0,\n",
              "       0, 1, 0, 1, 1, 0, 0, 0, 0, 1, 0, 0, 0, 1, 1, 0, 0, 1, 1, 0, 0, 0,\n",
              "       0, 1, 1, 1, 1, 0, 0, 0, 0, 0, 0, 1, 1, 0, 0, 1, 0, 1, 0, 1, 1, 1,\n",
              "       1, 1, 0, 0, 1, 1, 0, 0, 0, 0, 0, 1, 0, 1, 0, 0, 0, 1, 0, 0, 0, 0,\n",
              "       1, 0, 1, 0, 1, 0, 0, 1, 1, 0])"
            ]
          },
          "metadata": {},
          "execution_count": 28
        }
      ]
    },
    {
      "cell_type": "code",
      "source": [
        "#training score\n",
        "logreg.score(x_train,y_train)"
      ],
      "metadata": {
        "colab": {
          "base_uri": "https://localhost:8080/"
        },
        "id": "cNiW_DQALMsm",
        "outputId": "9ce813fe-6d60-43fe-baa7-a8bc0fe98503"
      },
      "execution_count": null,
      "outputs": [
        {
          "output_type": "execute_result",
          "data": {
            "text/plain": [
              "0.9892857142857143"
            ]
          },
          "metadata": {},
          "execution_count": 29
        }
      ]
    },
    {
      "cell_type": "code",
      "source": [
        "#testing accuracy\n",
        "logreg.score(x_test,y_test)"
      ],
      "metadata": {
        "colab": {
          "base_uri": "https://localhost:8080/"
        },
        "id": "zHYX8jOmLVIK",
        "outputId": "7591f964-6632-4c14-9c62-5214cc456a18"
      },
      "execution_count": null,
      "outputs": [
        {
          "output_type": "execute_result",
          "data": {
            "text/plain": [
              "0.9583333333333334"
            ]
          },
          "metadata": {},
          "execution_count": 30
        }
      ]
    },
    {
      "cell_type": "code",
      "source": [
        "y_pred_log=logreg.predict(x_test)"
      ],
      "metadata": {
        "id": "GKG4B0XdMSW_"
      },
      "execution_count": null,
      "outputs": []
    },
    {
      "cell_type": "code",
      "source": [
        "#accuracy\n",
        "from sklearn.metrics import accuracy_score\n",
        "log_acc=accuracy_score(y_test, y_pred_log)\n",
        "print('Accuracy: {0:.3f}'.format(log_acc))"
      ],
      "metadata": {
        "colab": {
          "base_uri": "https://localhost:8080/"
        },
        "id": "j1xODf4JLdf5",
        "outputId": "c19796f5-64b4-4a71-ec17-2336ba057c06"
      },
      "execution_count": null,
      "outputs": [
        {
          "output_type": "stream",
          "name": "stdout",
          "text": [
            "Accuracy: 0.958\n"
          ]
        }
      ]
    },
    {
      "cell_type": "markdown",
      "source": [
        "**MODEL EVALUATION**"
      ],
      "metadata": {
        "id": "BcFxKfnCIv_R"
      }
    },
    {
      "cell_type": "code",
      "source": [
        "from sklearn.metrics import accuracy_score, classification_report\n",
        "from sklearn.metrics import mean_absolute_error\n",
        "from sklearn.metrics import mean_squared_error\n",
        "from sklearn.metrics import confusion_matrix\n",
        "from sklearn.metrics import confusion_matrix, ConfusionMatrixDisplay\n",
        "from sklearn.metrics import roc_curve, auc"
      ],
      "metadata": {
        "id": "4YeLqlWmMjs8"
      },
      "execution_count": null,
      "outputs": []
    },
    {
      "cell_type": "code",
      "source": [
        "mae_log=mean_absolute_error(y_test, y_pred_log)"
      ],
      "metadata": {
        "id": "hph_8HefOXai"
      },
      "execution_count": null,
      "outputs": []
    },
    {
      "cell_type": "code",
      "source": [
        "mse_log=mean_squared_error(y_test, y_pred_log, squared=False)"
      ],
      "metadata": {
        "id": "z7Kd_a2DOYZK"
      },
      "execution_count": null,
      "outputs": []
    },
    {
      "cell_type": "code",
      "source": [
        "clsrep_log=classification_report(y_test, y_pred_log)"
      ],
      "metadata": {
        "id": "7oK9HyGFOYcj"
      },
      "execution_count": null,
      "outputs": []
    },
    {
      "cell_type": "code",
      "source": [
        "print(\"LOGISTIC REGRESSION:\\n\")\n",
        "print('Accuracy             : {0:.3f}'.format(log_acc))\n",
        "print(\"MAE                  : \",mae_log)\n",
        "print(\"MSE                  : \",mse_log)\n",
        "print(\"Classification Report: \", clsrep_log)\n",
        "#print(classification_report(y_test, y_pred_log))\n"
      ],
      "metadata": {
        "colab": {
          "base_uri": "https://localhost:8080/"
        },
        "id": "vxeqv92LLasP",
        "outputId": "40a13f9a-0a6f-4149-923c-ae3879c630ea"
      },
      "execution_count": null,
      "outputs": [
        {
          "output_type": "stream",
          "name": "stdout",
          "text": [
            "LOGISTIC REGRESSION:\n",
            "\n",
            "Accuracy             : 0.958\n",
            "MAE                  :  0.041666666666666664\n",
            "MSE                  :  0.2041241452319315\n",
            "Classification Report:                precision    recall  f1-score   support\n",
            "\n",
            "           0       0.99      0.95      0.97        78\n",
            "           1       0.91      0.98      0.94        42\n",
            "\n",
            "    accuracy                           0.96       120\n",
            "   macro avg       0.95      0.96      0.95       120\n",
            "weighted avg       0.96      0.96      0.96       120\n",
            "\n"
          ]
        }
      ]
    },
    {
      "cell_type": "code",
      "source": [
        "#confusion matrix\n",
        "cm_log= confusion_matrix(y_test, y_pred_log)\n",
        "disp_log= ConfusionMatrixDisplay(confusion_matrix=cm_log,display_labels=logreg.classes_)\n",
        "disp_log.plot()\n",
        "print(\"Confusion Matrix for Logistic Regression: \")\n",
        "plt.show()"
      ],
      "metadata": {
        "colab": {
          "base_uri": "https://localhost:8080/",
          "height": 296
        },
        "id": "nCUuUZCXPKTu",
        "outputId": "5ef71b5c-f7c0-4e18-8101-fa3efa0cb6ac"
      },
      "execution_count": null,
      "outputs": [
        {
          "output_type": "stream",
          "name": "stdout",
          "text": [
            "Confusion Matrix for Logistic Regression: \n"
          ]
        },
        {
          "output_type": "display_data",
          "data": {
            "text/plain": [
              "<Figure size 432x288 with 2 Axes>"
            ],
            "image/png": "[encoded data removed]"
          },
          "metadata": {
            "needs_background": "light"
          }
        }
      ]
    },
    {
      "cell_type": "code",
      "source": [
        "#roc curve\n",
        "fig, (ax2) = plt.subplots(figsize = (8,6))\n",
        "        #roc-curve\n",
        "fpr, tpr, thresholds_roc = roc_curve(y_test,y_pred_log)\n",
        "roc_auc = auc(fpr,tpr)\n",
        "ax2.plot(fpr,tpr, label = \" AUROC = {:0.2f}\".format(roc_auc))\n",
        "ax2.plot([0,1], [0,1], 'r', linestyle = \"--\", lw = 2)\n",
        "ax2.set_xlabel(\"False Positive Rate\", fontsize = 14)\n",
        "ax2.set_ylabel(\"True Positive Rate\", fontsize = 14)\n",
        "ax2.set_title(\"ROC Curve\", fontsize = 18)\n",
        "ax2.legend(loc = 'best')\n",
        "plt.title('ROC curve for Logistic Regression')\n",
        "plt.xlabel('False Positive Rate (1 - Specificity)')\n",
        "plt.ylabel('True Positive Rate (Sensitivity)')\n",
        "#find default threshold\n",
        "close_default = np.argmin(np.abs(thresholds_roc - 0.5))\n",
        "ax2.plot(fpr[close_default], tpr[close_default], 'o', markersize = 8)\n",
        "plt.tight_layout()"
      ],
      "metadata": {
        "colab": {
          "base_uri": "https://localhost:8080/",
          "height": 441
        },
        "id": "tc8ae9r9OzrB",
        "outputId": "4f9a848d-5912-44ed-9710-bd0720e306de"
      },
      "execution_count": null,
      "outputs": [
        {
          "output_type": "display_data",
          "data": {
            "text/plain": [
              "<Figure size 576x432 with 1 Axes>"
            ],
            "image/png": "[encoded data removed]"
          },
          "metadata": {
            "needs_background": "light"
          }
        }
      ]
    },
    {
      "cell_type": "code",
      "source": [
        "import pickle as pl\n",
        "pl.dump(logreg,open('LinearReg.pkl','wb'))"
      ],
      "metadata": {
        "id": "AU2rUvuBI2tR"
      },
      "execution_count": null,
      "outputs": []
    }
  ]
}