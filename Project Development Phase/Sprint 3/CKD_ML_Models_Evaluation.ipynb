{
  "nbformat": 4,
  "nbformat_minor": 0,
  "metadata": {
    "colab": {
      "provenance": []
    },
    "kernelspec": {
      "name": "python3",
      "display_name": "Python 3"
    },
    "language_info": {
      "name": "python"
    },
    "accelerator": "GPU",
    "gpuClass": "standard"
  },
  "cells": [
    {
      "cell_type": "markdown",
      "source": [
        "**IMPORT NECESSARY LIBRARIES**"
      ],
      "metadata": {
        "id": "vvAyWyoMPuvZ"
      }
    },
    {
      "cell_type": "code",
      "source": [
        "import pandas as pd \n",
        "import numpy as np \n",
        "import matplotlib.pyplot as plt \n",
        "import seaborn as sns \n",
        "from collections import Counter as с \n",
        "import missingno as msno \n",
        "from sklearn.metrics import accuracy_score, confusion_matrix\n",
        "from sklearn.model_selection import train_test_split \n",
        "from sklearn.preprocessing import LabelEncoder \n",
        "#from sklearn. linear_model import LogisticRegression \n",
        "#import pickle "
      ],
      "metadata": {
        "id": "kw05LB3gPw2m"
      },
      "execution_count": 1,
      "outputs": []
    },
    {
      "cell_type": "markdown",
      "source": [
        "**READ THE DATASET**"
      ],
      "metadata": {
        "id": "-U5pumAIP3wn"
      }
    },
    {
      "cell_type": "code",
      "source": [
        "f1=pd.read_csv(\"chronickidneydisease.csv\")"
      ],
      "metadata": {
        "id": "7a2jhWBYgRYf"
      },
      "execution_count": 2,
      "outputs": []
    },
    {
      "cell_type": "code",
      "source": [
        "f1.head()"
      ],
      "metadata": {
        "colab": {
          "base_uri": "https://localhost:8080/",
          "height": 235
        },
        "id": "JMYT6rzKgVsj",
        "outputId": "e24f72f8-a261-4da3-d982-ac7aa513b9f6"
      },
      "execution_count": 3,
      "outputs": [
        {
          "output_type": "execute_result",
          "data": {
            "text/plain": [
              "   id   age    bp     sg   al   su     rbc        pc         pcc          ba  \\\n",
              "0   0  48.0  80.0  1.020  1.0  0.0     NaN    normal  notpresent  notpresent   \n",
              "1   1   7.0  50.0  1.020  4.0  0.0     NaN    normal  notpresent  notpresent   \n",
              "2   2  62.0  80.0  1.010  2.0  3.0  normal    normal  notpresent  notpresent   \n",
              "3   3  48.0  70.0  1.005  4.0  0.0  normal  abnormal     present  notpresent   \n",
              "4   4  51.0  80.0  1.010  2.0  0.0  normal    normal  notpresent  notpresent   \n",
              "\n",
              "   ...  pcv    wc   rc  htn   dm  cad appet   pe  ane classification  \n",
              "0  ...   44  7800  5.2  yes  yes   no  good   no   no            ckd  \n",
              "1  ...   38  6000  NaN   no   no   no  good   no   no            ckd  \n",
              "2  ...   31  7500  NaN   no  yes   no  poor   no  yes            ckd  \n",
              "3  ...   32  6700  3.9  yes   no   no  poor  yes  yes            ckd  \n",
              "4  ...   35  7300  4.6   no   no   no  good   no   no            ckd  \n",
              "\n",
              "[5 rows x 26 columns]"
            ],
            "text/html": [
              "\n",
              "  <div id=\"df-ba4cd884-a187-4fec-8189-7cd01551ab14\">\n",
              "    <div class=\"colab-df-container\">\n",
              "      <div>\n",
              "<style scoped>\n",
              "    .dataframe tbody tr th:only-of-type {\n",
              "        vertical-align: middle;\n",
              "    }\n",
              "\n",
              "    .dataframe tbody tr th {\n",
              "        vertical-align: top;\n",
              "    }\n",
              "\n",
              "    .dataframe thead th {\n",
              "        text-align: right;\n",
              "    }\n",
              "</style>\n",
              "<table border=\"1\" class=\"dataframe\">\n",
              "  <thead>\n",
              "    <tr style=\"text-align: right;\">\n",
              "      <th></th>\n",
              "      <th>id</th>\n",
              "      <th>age</th>\n",
              "      <th>bp</th>\n",
              "      <th>sg</th>\n",
              "      <th>al</th>\n",
              "      <th>su</th>\n",
              "      <th>rbc</th>\n",
              "      <th>pc</th>\n",
              "      <th>pcc</th>\n",
              "      <th>ba</th>\n",
              "      <th>...</th>\n",
              "      <th>pcv</th>\n",
              "      <th>wc</th>\n",
              "      <th>rc</th>\n",
              "      <th>htn</th>\n",
              "      <th>dm</th>\n",
              "      <th>cad</th>\n",
              "      <th>appet</th>\n",
              "      <th>pe</th>\n",
              "      <th>ane</th>\n",
              "      <th>classification</th>\n",
              "    </tr>\n",
              "  </thead>\n",
              "  <tbody>\n",
              "    <tr>\n",
              "      <th>0</th>\n",
              "      <td>0</td>\n",
              "      <td>48.0</td>\n",
              "      <td>80.0</td>\n",
              "      <td>1.020</td>\n",
              "      <td>1.0</td>\n",
              "      <td>0.0</td>\n",
              "      <td>NaN</td>\n",
              "      <td>normal</td>\n",
              "      <td>notpresent</td>\n",
              "      <td>notpresent</td>\n",
              "      <td>...</td>\n",
              "      <td>44</td>\n",
              "      <td>7800</td>\n",
              "      <td>5.2</td>\n",
              "      <td>yes</td>\n",
              "      <td>yes</td>\n",
              "      <td>no</td>\n",
              "      <td>good</td>\n",
              "      <td>no</td>\n",
              "      <td>no</td>\n",
              "      <td>ckd</td>\n",
              "    </tr>\n",
              "    <tr>\n",
              "      <th>1</th>\n",
              "      <td>1</td>\n",
              "      <td>7.0</td>\n",
              "      <td>50.0</td>\n",
              "      <td>1.020</td>\n",
              "      <td>4.0</td>\n",
              "      <td>0.0</td>\n",
              "      <td>NaN</td>\n",
              "      <td>normal</td>\n",
              "      <td>notpresent</td>\n",
              "      <td>notpresent</td>\n",
              "      <td>...</td>\n",
              "      <td>38</td>\n",
              "      <td>6000</td>\n",
              "      <td>NaN</td>\n",
              "      <td>no</td>\n",
              "      <td>no</td>\n",
              "      <td>no</td>\n",
              "      <td>good</td>\n",
              "      <td>no</td>\n",
              "      <td>no</td>\n",
              "      <td>ckd</td>\n",
              "    </tr>\n",
              "    <tr>\n",
              "      <th>2</th>\n",
              "      <td>2</td>\n",
              "      <td>62.0</td>\n",
              "      <td>80.0</td>\n",
              "      <td>1.010</td>\n",
              "      <td>2.0</td>\n",
              "      <td>3.0</td>\n",
              "      <td>normal</td>\n",
              "      <td>normal</td>\n",
              "      <td>notpresent</td>\n",
              "      <td>notpresent</td>\n",
              "      <td>...</td>\n",
              "      <td>31</td>\n",
              "      <td>7500</td>\n",
              "      <td>NaN</td>\n",
              "      <td>no</td>\n",
              "      <td>yes</td>\n",
              "      <td>no</td>\n",
              "      <td>poor</td>\n",
              "      <td>no</td>\n",
              "      <td>yes</td>\n",
              "      <td>ckd</td>\n",
              "    </tr>\n",
              "    <tr>\n",
              "      <th>3</th>\n",
              "      <td>3</td>\n",
              "      <td>48.0</td>\n",
              "      <td>70.0</td>\n",
              "      <td>1.005</td>\n",
              "      <td>4.0</td>\n",
              "      <td>0.0</td>\n",
              "      <td>normal</td>\n",
              "      <td>abnormal</td>\n",
              "      <td>present</td>\n",
              "      <td>notpresent</td>\n",
              "      <td>...</td>\n",
              "      <td>32</td>\n",
              "      <td>6700</td>\n",
              "      <td>3.9</td>\n",
              "      <td>yes</td>\n",
              "      <td>no</td>\n",
              "      <td>no</td>\n",
              "      <td>poor</td>\n",
              "      <td>yes</td>\n",
              "      <td>yes</td>\n",
              "      <td>ckd</td>\n",
              "    </tr>\n",
              "    <tr>\n",
              "      <th>4</th>\n",
              "      <td>4</td>\n",
              "      <td>51.0</td>\n",
              "      <td>80.0</td>\n",
              "      <td>1.010</td>\n",
              "      <td>2.0</td>\n",
              "      <td>0.0</td>\n",
              "      <td>normal</td>\n",
              "      <td>normal</td>\n",
              "      <td>notpresent</td>\n",
              "      <td>notpresent</td>\n",
              "      <td>...</td>\n",
              "      <td>35</td>\n",
              "      <td>7300</td>\n",
              "      <td>4.6</td>\n",
              "      <td>no</td>\n",
              "      <td>no</td>\n",
              "      <td>no</td>\n",
              "      <td>good</td>\n",
              "      <td>no</td>\n",
              "      <td>no</td>\n",
              "      <td>ckd</td>\n",
              "    </tr>\n",
              "  </tbody>\n",
              "</table>\n",
              "<p>5 rows × 26 columns</p>\n",
              "</div>\n",
              "      <button class=\"colab-df-convert\" onclick=\"convertToInteractive('df-ba4cd884-a187-4fec-8189-7cd01551ab14')\"\n",
              "              title=\"Convert this dataframe to an interactive table.\"\n",
              "              style=\"display:none;\">\n",
              "        \n",
              "  <svg xmlns=\"http://www.w3.org/2000/svg\" height=\"24px\"viewBox=\"0 0 24 24\"\n",
              "       width=\"24px\">\n",
              "    <path d=\"M0 0h24v24H0V0z\" fill=\"none\"/>\n",
              "    <path d=\"M18.56 5.44l.94 2.06.94-2.06 2.06-.94-2.06-.94-.94-2.06-.94 2.06-2.06.94zm-11 1L8.5 8.5l.94-2.06 2.06-.94-2.06-.94L8.5 2.5l-.94 2.06-2.06.94zm10 10l.94 2.06.94-2.06 2.06-.94-2.06-.94-.94-2.06-.94 2.06-2.06.94z\"/><path d=\"M17.41 7.96l-1.37-1.37c-.4-.4-.92-.59-1.43-.59-.52 0-1.04.2-1.43.59L10.3 9.45l-7.72 7.72c-.78.78-.78 2.05 0 2.83L4 21.41c.39.39.9.59 1.41.59.51 0 1.02-.2 1.41-.59l7.78-7.78 2.81-2.81c.8-.78.8-2.07 0-2.86zM5.41 20L4 18.59l7.72-7.72 1.47 1.35L5.41 20z\"/>\n",
              "  </svg>\n",
              "      </button>\n",
              "      \n",
              "  <style>\n",
              "    .colab-df-container {\n",
              "      display:flex;\n",
              "      flex-wrap:wrap;\n",
              "      gap: 12px;\n",
              "    }\n",
              "\n",
              "    .colab-df-convert {\n",
              "      background-color: #E8F0FE;\n",
              "      border: none;\n",
              "      border-radius: 50%;\n",
              "      cursor: pointer;\n",
              "      display: none;\n",
              "      fill: #1967D2;\n",
              "      height: 32px;\n",
              "      padding: 0 0 0 0;\n",
              "      width: 32px;\n",
              "    }\n",
              "\n",
              "    .colab-df-convert:hover {\n",
              "      background-color: #E2EBFA;\n",
              "      box-shadow: 0px 1px 2px rgba(60, 64, 67, 0.3), 0px 1px 3px 1px rgba(60, 64, 67, 0.15);\n",
              "      fill: #174EA6;\n",
              "    }\n",
              "\n",
              "    [theme=dark] .colab-df-convert {\n",
              "      background-color: #3B4455;\n",
              "      fill: #D2E3FC;\n",
              "    }\n",
              "\n",
              "    [theme=dark] .colab-df-convert:hover {\n",
              "      background-color: #434B5C;\n",
              "      box-shadow: 0px 1px 3px 1px rgba(0, 0, 0, 0.15);\n",
              "      filter: drop-shadow(0px 1px 2px rgba(0, 0, 0, 0.3));\n",
              "      fill: #FFFFFF;\n",
              "    }\n",
              "  </style>\n",
              "\n",
              "      <script>\n",
              "        const buttonEl =\n",
              "          document.querySelector('#df-ba4cd884-a187-4fec-8189-7cd01551ab14 button.colab-df-convert');\n",
              "        buttonEl.style.display =\n",
              "          google.colab.kernel.accessAllowed ? 'block' : 'none';\n",
              "\n",
              "        async function convertToInteractive(key) {\n",
              "          const element = document.querySelector('#df-ba4cd884-a187-4fec-8189-7cd01551ab14');\n",
              "          const dataTable =\n",
              "            await google.colab.kernel.invokeFunction('convertToInteractive',\n",
              "                                                     [key], {});\n",
              "          if (!dataTable) return;\n",
              "\n",
              "          const docLinkHtml = 'Like what you see? Visit the ' +\n",
              "            '<a target=\"_blank\" href=https://colab.research.google.com/notebooks/data_table.ipynb>data table notebook</a>'\n",
              "            + ' to learn more about interactive tables.';\n",
              "          element.innerHTML = '';\n",
              "          dataTable['output_type'] = 'display_data';\n",
              "          await google.colab.output.renderOutput(dataTable, element);\n",
              "          const docLink = document.createElement('div');\n",
              "          docLink.innerHTML = docLinkHtml;\n",
              "          element.appendChild(docLink);\n",
              "        }\n",
              "      </script>\n",
              "    </div>\n",
              "  </div>\n",
              "  "
            ]
          },
          "metadata": {},
          "execution_count": 3
        }
      ]
    },
    {
      "cell_type": "code",
      "source": [
        "f1.tail()"
      ],
      "metadata": {
        "colab": {
          "base_uri": "https://localhost:8080/",
          "height": 235
        },
        "id": "A1nQa-MWQTv9",
        "outputId": "82fd352e-a12a-41bc-93f4-0d8237ab7484"
      },
      "execution_count": 4,
      "outputs": [
        {
          "output_type": "execute_result",
          "data": {
            "text/plain": [
              "      id   age    bp     sg   al   su     rbc      pc         pcc          ba  \\\n",
              "395  395  55.0  80.0  1.020  0.0  0.0  normal  normal  notpresent  notpresent   \n",
              "396  396  42.0  70.0  1.025  0.0  0.0  normal  normal  notpresent  notpresent   \n",
              "397  397  12.0  80.0  1.020  0.0  0.0  normal  normal  notpresent  notpresent   \n",
              "398  398  17.0  60.0  1.025  0.0  0.0  normal  normal  notpresent  notpresent   \n",
              "399  399  58.0  80.0  1.025  0.0  0.0  normal  normal  notpresent  notpresent   \n",
              "\n",
              "     ...  pcv    wc   rc  htn  dm  cad appet  pe ane classification  \n",
              "395  ...   47  6700  4.9   no  no   no  good  no  no         notckd  \n",
              "396  ...   54  7800  6.2   no  no   no  good  no  no         notckd  \n",
              "397  ...   49  6600  5.4   no  no   no  good  no  no         notckd  \n",
              "398  ...   51  7200  5.9   no  no   no  good  no  no         notckd  \n",
              "399  ...   53  6800  6.1   no  no   no  good  no  no         notckd  \n",
              "\n",
              "[5 rows x 26 columns]"
            ],
            "text/html": [
              "\n",
              "  <div id=\"df-85d8d847-784e-41f8-bf67-81702bdb0fc4\">\n",
              "    <div class=\"colab-df-container\">\n",
              "      <div>\n",
              "<style scoped>\n",
              "    .dataframe tbody tr th:only-of-type {\n",
              "        vertical-align: middle;\n",
              "    }\n",
              "\n",
              "    .dataframe tbody tr th {\n",
              "        vertical-align: top;\n",
              "    }\n",
              "\n",
              "    .dataframe thead th {\n",
              "        text-align: right;\n",
              "    }\n",
              "</style>\n",
              "<table border=\"1\" class=\"dataframe\">\n",
              "  <thead>\n",
              "    <tr style=\"text-align: right;\">\n",
              "      <th></th>\n",
              "      <th>id</th>\n",
              "      <th>age</th>\n",
              "      <th>bp</th>\n",
              "      <th>sg</th>\n",
              "      <th>al</th>\n",
              "      <th>su</th>\n",
              "      <th>rbc</th>\n",
              "      <th>pc</th>\n",
              "      <th>pcc</th>\n",
              "      <th>ba</th>\n",
              "      <th>...</th>\n",
              "      <th>pcv</th>\n",
              "      <th>wc</th>\n",
              "      <th>rc</th>\n",
              "      <th>htn</th>\n",
              "      <th>dm</th>\n",
              "      <th>cad</th>\n",
              "      <th>appet</th>\n",
              "      <th>pe</th>\n",
              "      <th>ane</th>\n",
              "      <th>classification</th>\n",
              "    </tr>\n",
              "  </thead>\n",
              "  <tbody>\n",
              "    <tr>\n",
              "      <th>395</th>\n",
              "      <td>395</td>\n",
              "      <td>55.0</td>\n",
              "      <td>80.0</td>\n",
              "      <td>1.020</td>\n",
              "      <td>0.0</td>\n",
              "      <td>0.0</td>\n",
              "      <td>normal</td>\n",
              "      <td>normal</td>\n",
              "      <td>notpresent</td>\n",
              "      <td>notpresent</td>\n",
              "      <td>...</td>\n",
              "      <td>47</td>\n",
              "      <td>6700</td>\n",
              "      <td>4.9</td>\n",
              "      <td>no</td>\n",
              "      <td>no</td>\n",
              "      <td>no</td>\n",
              "      <td>good</td>\n",
              "      <td>no</td>\n",
              "      <td>no</td>\n",
              "      <td>notckd</td>\n",
              "    </tr>\n",
              "    <tr>\n",
              "      <th>396</th>\n",
              "      <td>396</td>\n",
              "      <td>42.0</td>\n",
              "      <td>70.0</td>\n",
              "      <td>1.025</td>\n",
              "      <td>0.0</td>\n",
              "      <td>0.0</td>\n",
              "      <td>normal</td>\n",
              "      <td>normal</td>\n",
              "      <td>notpresent</td>\n",
              "      <td>notpresent</td>\n",
              "      <td>...</td>\n",
              "      <td>54</td>\n",
              "      <td>7800</td>\n",
              "      <td>6.2</td>\n",
              "      <td>no</td>\n",
              "      <td>no</td>\n",
              "      <td>no</td>\n",
              "      <td>good</td>\n",
              "      <td>no</td>\n",
              "      <td>no</td>\n",
              "      <td>notckd</td>\n",
              "    </tr>\n",
              "    <tr>\n",
              "      <th>397</th>\n",
              "      <td>397</td>\n",
              "      <td>12.0</td>\n",
              "      <td>80.0</td>\n",
              "      <td>1.020</td>\n",
              "      <td>0.0</td>\n",
              "      <td>0.0</td>\n",
              "      <td>normal</td>\n",
              "      <td>normal</td>\n",
              "      <td>notpresent</td>\n",
              "      <td>notpresent</td>\n",
              "      <td>...</td>\n",
              "      <td>49</td>\n",
              "      <td>6600</td>\n",
              "      <td>5.4</td>\n",
              "      <td>no</td>\n",
              "      <td>no</td>\n",
              "      <td>no</td>\n",
              "      <td>good</td>\n",
              "      <td>no</td>\n",
              "      <td>no</td>\n",
              "      <td>notckd</td>\n",
              "    </tr>\n",
              "    <tr>\n",
              "      <th>398</th>\n",
              "      <td>398</td>\n",
              "      <td>17.0</td>\n",
              "      <td>60.0</td>\n",
              "      <td>1.025</td>\n",
              "      <td>0.0</td>\n",
              "      <td>0.0</td>\n",
              "      <td>normal</td>\n",
              "      <td>normal</td>\n",
              "      <td>notpresent</td>\n",
              "      <td>notpresent</td>\n",
              "      <td>...</td>\n",
              "      <td>51</td>\n",
              "      <td>7200</td>\n",
              "      <td>5.9</td>\n",
              "      <td>no</td>\n",
              "      <td>no</td>\n",
              "      <td>no</td>\n",
              "      <td>good</td>\n",
              "      <td>no</td>\n",
              "      <td>no</td>\n",
              "      <td>notckd</td>\n",
              "    </tr>\n",
              "    <tr>\n",
              "      <th>399</th>\n",
              "      <td>399</td>\n",
              "      <td>58.0</td>\n",
              "      <td>80.0</td>\n",
              "      <td>1.025</td>\n",
              "      <td>0.0</td>\n",
              "      <td>0.0</td>\n",
              "      <td>normal</td>\n",
              "      <td>normal</td>\n",
              "      <td>notpresent</td>\n",
              "      <td>notpresent</td>\n",
              "      <td>...</td>\n",
              "      <td>53</td>\n",
              "      <td>6800</td>\n",
              "      <td>6.1</td>\n",
              "      <td>no</td>\n",
              "      <td>no</td>\n",
              "      <td>no</td>\n",
              "      <td>good</td>\n",
              "      <td>no</td>\n",
              "      <td>no</td>\n",
              "      <td>notckd</td>\n",
              "    </tr>\n",
              "  </tbody>\n",
              "</table>\n",
              "<p>5 rows × 26 columns</p>\n",
              "</div>\n",
              "      <button class=\"colab-df-convert\" onclick=\"convertToInteractive('df-85d8d847-784e-41f8-bf67-81702bdb0fc4')\"\n",
              "              title=\"Convert this dataframe to an interactive table.\"\n",
              "              style=\"display:none;\">\n",
              "        \n",
              "  <svg xmlns=\"http://www.w3.org/2000/svg\" height=\"24px\"viewBox=\"0 0 24 24\"\n",
              "       width=\"24px\">\n",
              "    <path d=\"M0 0h24v24H0V0z\" fill=\"none\"/>\n",
              "    <path d=\"M18.56 5.44l.94 2.06.94-2.06 2.06-.94-2.06-.94-.94-2.06-.94 2.06-2.06.94zm-11 1L8.5 8.5l.94-2.06 2.06-.94-2.06-.94L8.5 2.5l-.94 2.06-2.06.94zm10 10l.94 2.06.94-2.06 2.06-.94-2.06-.94-.94-2.06-.94 2.06-2.06.94z\"/><path d=\"M17.41 7.96l-1.37-1.37c-.4-.4-.92-.59-1.43-.59-.52 0-1.04.2-1.43.59L10.3 9.45l-7.72 7.72c-.78.78-.78 2.05 0 2.83L4 21.41c.39.39.9.59 1.41.59.51 0 1.02-.2 1.41-.59l7.78-7.78 2.81-2.81c.8-.78.8-2.07 0-2.86zM5.41 20L4 18.59l7.72-7.72 1.47 1.35L5.41 20z\"/>\n",
              "  </svg>\n",
              "      </button>\n",
              "      \n",
              "  <style>\n",
              "    .colab-df-container {\n",
              "      display:flex;\n",
              "      flex-wrap:wrap;\n",
              "      gap: 12px;\n",
              "    }\n",
              "\n",
              "    .colab-df-convert {\n",
              "      background-color: #E8F0FE;\n",
              "      border: none;\n",
              "      border-radius: 50%;\n",
              "      cursor: pointer;\n",
              "      display: none;\n",
              "      fill: #1967D2;\n",
              "      height: 32px;\n",
              "      padding: 0 0 0 0;\n",
              "      width: 32px;\n",
              "    }\n",
              "\n",
              "    .colab-df-convert:hover {\n",
              "      background-color: #E2EBFA;\n",
              "      box-shadow: 0px 1px 2px rgba(60, 64, 67, 0.3), 0px 1px 3px 1px rgba(60, 64, 67, 0.15);\n",
              "      fill: #174EA6;\n",
              "    }\n",
              "\n",
              "    [theme=dark] .colab-df-convert {\n",
              "      background-color: #3B4455;\n",
              "      fill: #D2E3FC;\n",
              "    }\n",
              "\n",
              "    [theme=dark] .colab-df-convert:hover {\n",
              "      background-color: #434B5C;\n",
              "      box-shadow: 0px 1px 3px 1px rgba(0, 0, 0, 0.15);\n",
              "      filter: drop-shadow(0px 1px 2px rgba(0, 0, 0, 0.3));\n",
              "      fill: #FFFFFF;\n",
              "    }\n",
              "  </style>\n",
              "\n",
              "      <script>\n",
              "        const buttonEl =\n",
              "          document.querySelector('#df-85d8d847-784e-41f8-bf67-81702bdb0fc4 button.colab-df-convert');\n",
              "        buttonEl.style.display =\n",
              "          google.colab.kernel.accessAllowed ? 'block' : 'none';\n",
              "\n",
              "        async function convertToInteractive(key) {\n",
              "          const element = document.querySelector('#df-85d8d847-784e-41f8-bf67-81702bdb0fc4');\n",
              "          const dataTable =\n",
              "            await google.colab.kernel.invokeFunction('convertToInteractive',\n",
              "                                                     [key], {});\n",
              "          if (!dataTable) return;\n",
              "\n",
              "          const docLinkHtml = 'Like what you see? Visit the ' +\n",
              "            '<a target=\"_blank\" href=https://colab.research.google.com/notebooks/data_table.ipynb>data table notebook</a>'\n",
              "            + ' to learn more about interactive tables.';\n",
              "          element.innerHTML = '';\n",
              "          dataTable['output_type'] = 'display_data';\n",
              "          await google.colab.output.renderOutput(dataTable, element);\n",
              "          const docLink = document.createElement('div');\n",
              "          docLink.innerHTML = docLinkHtml;\n",
              "          element.appendChild(docLink);\n",
              "        }\n",
              "      </script>\n",
              "    </div>\n",
              "  </div>\n",
              "  "
            ]
          },
          "metadata": {},
          "execution_count": 4
        }
      ]
    },
    {
      "cell_type": "code",
      "source": [
        "#dropping column 'id' as it is unnecessary\n",
        "f1.drop([\"id\"], axis=1, inplace=True)"
      ],
      "metadata": {
        "id": "7RsriNKFQsez"
      },
      "execution_count": 5,
      "outputs": []
    },
    {
      "cell_type": "code",
      "source": [
        "f1.columns"
      ],
      "metadata": {
        "colab": {
          "base_uri": "https://localhost:8080/"
        },
        "id": "_--fPT83SWuI",
        "outputId": "094c7141-284f-4acb-dd3b-7875d848c9c4"
      },
      "execution_count": 6,
      "outputs": [
        {
          "output_type": "execute_result",
          "data": {
            "text/plain": [
              "Index(['age', 'bp', 'sg', 'al', 'su', 'rbc', 'pc', 'pcc', 'ba', 'bgr', 'bu',\n",
              "       'sc', 'sod', 'pot', 'hemo', 'pcv', 'wc', 'rc', 'htn', 'dm', 'cad',\n",
              "       'appet', 'pe', 'ane', 'classification'],\n",
              "      dtype='object')"
            ]
          },
          "metadata": {},
          "execution_count": 6
        }
      ]
    },
    {
      "cell_type": "code",
      "source": [
        "#rename column names\n",
        "f1.columns=['age', 'blood_pressure', 'specific_gravity', 'albumin', 'sugar', 'red_blood_cells', 'pus_cell', 'pus_cell_clumps', 'bacteria',\n",
        "            'blood_glucose_random', 'blood_urea', 'serum_creatinine', 'sodium', 'potassium','hemoglobin', 'packed_cell_volume', \n",
        "            'white_blood_cell_count', 'red_blood_cell_count', 'hypertension', 'diabetesmellitus', 'coronary_artery_disease', 'appetite',\n",
        "            'pedal_edema' , 'anemia', 'class'] \n",
        "cols=f1.columns\n",
        "cols"
      ],
      "metadata": {
        "colab": {
          "base_uri": "https://localhost:8080/"
        },
        "id": "B7n4UDZRSYzE",
        "outputId": "bae99f0f-3c1d-483d-d122-9f4de43f653f"
      },
      "execution_count": 7,
      "outputs": [
        {
          "output_type": "execute_result",
          "data": {
            "text/plain": [
              "Index(['age', 'blood_pressure', 'specific_gravity', 'albumin', 'sugar',\n",
              "       'red_blood_cells', 'pus_cell', 'pus_cell_clumps', 'bacteria',\n",
              "       'blood_glucose_random', 'blood_urea', 'serum_creatinine', 'sodium',\n",
              "       'potassium', 'hemoglobin', 'packed_cell_volume',\n",
              "       'white_blood_cell_count', 'red_blood_cell_count', 'hypertension',\n",
              "       'diabetesmellitus', 'coronary_artery_disease', 'appetite',\n",
              "       'pedal_edema', 'anemia', 'class'],\n",
              "      dtype='object')"
            ]
          },
          "metadata": {},
          "execution_count": 7
        }
      ]
    },
    {
      "cell_type": "markdown",
      "source": [
        "**UNDERSTANDING THE DATATYPE**"
      ],
      "metadata": {
        "id": "BK0ZRfeaWL0P"
      }
    },
    {
      "cell_type": "code",
      "source": [
        "#target column - find unique elements of the array/column\n",
        "f1['class'].unique()"
      ],
      "metadata": {
        "colab": {
          "base_uri": "https://localhost:8080/"
        },
        "id": "jD32ZjEqWagw",
        "outputId": "7e32cd53-0fd2-4e3c-ed7c-b283bea005c8"
      },
      "execution_count": 8,
      "outputs": [
        {
          "output_type": "execute_result",
          "data": {
            "text/plain": [
              "array(['ckd', 'ckd\\t', 'notckd'], dtype=object)"
            ]
          },
          "metadata": {},
          "execution_count": 8
        }
      ]
    },
    {
      "cell_type": "code",
      "source": [
        "#rectifying the unknown class in the dataset\n",
        "f1['class']=f1['class'].replace(\"ckd\\t\", \"ckd\")\n",
        "f1['class'].unique()"
      ],
      "metadata": {
        "colab": {
          "base_uri": "https://localhost:8080/"
        },
        "id": "RJKr9w79W6LG",
        "outputId": "8b6037f6-e837-4d1e-b061-26498d5ea1a1"
      },
      "execution_count": 9,
      "outputs": [
        {
          "output_type": "execute_result",
          "data": {
            "text/plain": [
              "array(['ckd', 'notckd'], dtype=object)"
            ]
          },
          "metadata": {},
          "execution_count": 9
        }
      ]
    },
    {
      "cell_type": "code",
      "source": [
        "#target column\n",
        "f1['class'].value_counts()"
      ],
      "metadata": {
        "colab": {
          "base_uri": "https://localhost:8080/"
        },
        "id": "HAVrBRj3XfG_",
        "outputId": "1b6639dd-bfe6-41e1-ce77-34d7df24a639"
      },
      "execution_count": 10,
      "outputs": [
        {
          "output_type": "execute_result",
          "data": {
            "text/plain": [
              "ckd       250\n",
              "notckd    150\n",
              "Name: class, dtype: int64"
            ]
          },
          "metadata": {},
          "execution_count": 10
        }
      ]
    },
    {
      "cell_type": "code",
      "source": [
        "f1['coronary_artery_disease'].value_counts()"
      ],
      "metadata": {
        "colab": {
          "base_uri": "https://localhost:8080/"
        },
        "id": "_p1ySBxBhIjK",
        "outputId": "e695b47a-d151-4ffe-97bd-2e2c55aa1ef9"
      },
      "execution_count": 11,
      "outputs": [
        {
          "output_type": "execute_result",
          "data": {
            "text/plain": [
              "no      362\n",
              "yes      34\n",
              "\\tno      2\n",
              "Name: coronary_artery_disease, dtype: int64"
            ]
          },
          "metadata": {},
          "execution_count": 11
        }
      ]
    },
    {
      "cell_type": "code",
      "source": [
        "#rectifying column\n",
        "f1['coronary_artery_disease']=f1['coronary_artery_disease'].replace(\"\\tno\", \"no\")\n",
        "f1['coronary_artery_disease'].value_counts()"
      ],
      "metadata": {
        "colab": {
          "base_uri": "https://localhost:8080/"
        },
        "id": "oIRqtQNVhMvn",
        "outputId": "981ed7f6-5497-4939-9c47-0727e14a2233"
      },
      "execution_count": 12,
      "outputs": [
        {
          "output_type": "execute_result",
          "data": {
            "text/plain": [
              "no     364\n",
              "yes     34\n",
              "Name: coronary_artery_disease, dtype: int64"
            ]
          },
          "metadata": {},
          "execution_count": 12
        }
      ]
    },
    {
      "cell_type": "code",
      "source": [
        "f1['diabetesmellitus'].value_counts()"
      ],
      "metadata": {
        "colab": {
          "base_uri": "https://localhost:8080/"
        },
        "id": "3twVcWDQhke6",
        "outputId": "add1e3df-601b-46e7-e831-b5046d16b4f0"
      },
      "execution_count": 13,
      "outputs": [
        {
          "output_type": "execute_result",
          "data": {
            "text/plain": [
              "no       258\n",
              "yes      134\n",
              "\\tno       3\n",
              "\\tyes      2\n",
              " yes       1\n",
              "Name: diabetesmellitus, dtype: int64"
            ]
          },
          "metadata": {},
          "execution_count": 13
        }
      ]
    },
    {
      "cell_type": "code",
      "source": [
        "#rectifying column\n",
        "f1['diabetesmellitus']=f1['diabetesmellitus'].replace(\"\\tno\", \"no\")\n",
        "f1['diabetesmellitus']=f1['diabetesmellitus'].replace(\"\\tyes\", \"yes\")\n",
        "f1['diabetesmellitus']=f1['diabetesmellitus'].replace(\" yes\", \"yes\")\n",
        "f1['diabetesmellitus'].value_counts()"
      ],
      "metadata": {
        "colab": {
          "base_uri": "https://localhost:8080/"
        },
        "id": "iIFH7mq1hki7",
        "outputId": "a668da6b-436c-4373-b0ec-32ed57314415"
      },
      "execution_count": 14,
      "outputs": [
        {
          "output_type": "execute_result",
          "data": {
            "text/plain": [
              "no     261\n",
              "yes    137\n",
              "Name: diabetesmellitus, dtype: int64"
            ]
          },
          "metadata": {},
          "execution_count": 14
        }
      ]
    },
    {
      "cell_type": "markdown",
      "source": [
        "**CHECK CATEGORICAL AND NUMERICAL DATA**"
      ],
      "metadata": {
        "id": "6F7_scgch_Gm"
      }
    },
    {
      "cell_type": "code",
      "source": [
        "num_cols = f1.select_dtypes(include='number').columns\n",
        "num_cols"
      ],
      "metadata": {
        "colab": {
          "base_uri": "https://localhost:8080/"
        },
        "id": "McPd9bTxe4zC",
        "outputId": "e79caa6b-399d-4c83-9444-8557a374bf08"
      },
      "execution_count": 15,
      "outputs": [
        {
          "output_type": "execute_result",
          "data": {
            "text/plain": [
              "Index(['age', 'blood_pressure', 'specific_gravity', 'albumin', 'sugar',\n",
              "       'blood_glucose_random', 'blood_urea', 'serum_creatinine', 'sodium',\n",
              "       'potassium', 'hemoglobin'],\n",
              "      dtype='object')"
            ]
          },
          "metadata": {},
          "execution_count": 15
        }
      ]
    },
    {
      "cell_type": "code",
      "source": [
        "cat_cols= f1.select_dtypes(include='object').columns\n",
        "cat_cols"
      ],
      "metadata": {
        "colab": {
          "base_uri": "https://localhost:8080/"
        },
        "id": "KKeYBWX_fMMV",
        "outputId": "33d94a41-d0de-412e-b088-2e43e354ec35"
      },
      "execution_count": 16,
      "outputs": [
        {
          "output_type": "execute_result",
          "data": {
            "text/plain": [
              "Index(['red_blood_cells', 'pus_cell', 'pus_cell_clumps', 'bacteria',\n",
              "       'packed_cell_volume', 'white_blood_cell_count', 'red_blood_cell_count',\n",
              "       'hypertension', 'diabetesmellitus', 'coronary_artery_disease',\n",
              "       'appetite', 'pedal_edema', 'anemia', 'class'],\n",
              "      dtype='object')"
            ]
          },
          "metadata": {},
          "execution_count": 16
        }
      ]
    },
    {
      "cell_type": "markdown",
      "source": [
        "**HANDLING THE MISSING VALUES**"
      ],
      "metadata": {
        "id": "GS-zM5EG9ZM5"
      }
    },
    {
      "cell_type": "code",
      "source": [
        "#conversion of numerical data(string format to numeric)\n",
        "f1.packed_cell_volume = pd.to_numeric(f1.packed_cell_volume, errors=\"coerce\")\n",
        "f1.white_blood_cell_count = pd.to_numeric(f1.white_blood_cell_count, errors=\"coerce\")\n",
        "f1.red_blood_cell_count = pd.to_numeric(f1.red_blood_cell_count, errors=\"coerce\")"
      ],
      "metadata": {
        "id": "whz-dztO9jmS"
      },
      "execution_count": 17,
      "outputs": []
    },
    {
      "cell_type": "code",
      "source": [
        "#check if any column is null\n",
        "'''\n",
        "True : null present\n",
        "False: non-null\n",
        "'''\n",
        "f1.isnull().any()"
      ],
      "metadata": {
        "colab": {
          "base_uri": "https://localhost:8080/"
        },
        "id": "lyYinzoe-LQg",
        "outputId": "ff835c1f-986a-4c94-b99a-a0cadba65c59"
      },
      "execution_count": 18,
      "outputs": [
        {
          "output_type": "execute_result",
          "data": {
            "text/plain": [
              "age                         True\n",
              "blood_pressure              True\n",
              "specific_gravity            True\n",
              "albumin                     True\n",
              "sugar                       True\n",
              "red_blood_cells             True\n",
              "pus_cell                    True\n",
              "pus_cell_clumps             True\n",
              "bacteria                    True\n",
              "blood_glucose_random        True\n",
              "blood_urea                  True\n",
              "serum_creatinine            True\n",
              "sodium                      True\n",
              "potassium                   True\n",
              "hemoglobin                  True\n",
              "packed_cell_volume          True\n",
              "white_blood_cell_count      True\n",
              "red_blood_cell_count        True\n",
              "hypertension                True\n",
              "diabetesmellitus            True\n",
              "coronary_artery_disease     True\n",
              "appetite                    True\n",
              "pedal_edema                 True\n",
              "anemia                      True\n",
              "class                      False\n",
              "dtype: bool"
            ]
          },
          "metadata": {},
          "execution_count": 18
        }
      ]
    },
    {
      "cell_type": "code",
      "source": [
        "#handle missing values\n",
        "f1[ \"blood_pressure\"].fillna(f1[\"blood_pressure\"].mean(),inplace=True)\n",
        "f1[ \"blood_glucose_random\"].fillna(f1[\"blood_glucose_random\"].mean(),inplace=True)\n",
        "f1[ \"blood_urea\"].fillna(f1[\"blood_urea\"].mean(),inplace=True)\n",
        "f1[ \"serum_creatinine\"].fillna(f1[\"serum_creatinine\"].mean(),inplace=True)\n",
        "f1[ \"sodium\"].fillna(f1[\"sodium\"].mean(),inplace=True)\n",
        "f1[ \"potassium\"].fillna(f1[\"potassium\"].mean(),inplace=True)\n",
        "f1[ \"hemoglobin\"].fillna(f1[\"hemoglobin\"].mean(),inplace=True)\n",
        "f1[ \"packed_cell_volume\"].fillna(f1[\"packed_cell_volume\"].mean(),inplace=True)\n",
        "f1[ \"white_blood_cell_count\"].fillna(f1[\"white_blood_cell_count\"].mean(),inplace=True)\n",
        "f1[ \"red_blood_cell_count\"].fillna(f1[\"red_blood_cell_count\"].mean(),inplace=True) "
      ],
      "metadata": {
        "id": "N73AV7Ss-eOc"
      },
      "execution_count": 19,
      "outputs": []
    },
    {
      "cell_type": "code",
      "source": [
        "#handle missing values\n",
        "f1[ \"age\"].fillna(f1[\"age\"].mode()[0],inplace=True)\n",
        "f1[ \"specific_gravity\"].fillna(f1[\"specific_gravity\"].mode()[0],inplace=True)\n",
        "f1[ \"albumin\"].fillna(f1[\"albumin\"].mode()[0],inplace=True)\n",
        "f1[ \"sugar\"].fillna(f1[\"sugar\"].mode()[0],inplace=True)\n",
        "f1[ \"red_blood_cells\"].fillna(f1[\"red_blood_cells\"].mode()[0],inplace=True)\n",
        "f1[ \"pus_cell\"].fillna(f1[\"pus_cell\"].mode()[0],inplace=True)\n",
        "f1[ \"pus_cell_clumps\"].fillna(f1[\"pus_cell_clumps\"].mode()[0],inplace=True)\n",
        "f1[ \"bacteria\"].fillna(f1[\"bacteria\"].mode()[0],inplace=True)\n",
        "f1[ \"diabetesmellitus\"].fillna(f1[\"diabetesmellitus\"].mode()[0],inplace=True)\n",
        "f1[ \"coronary_artery_disease\"].fillna(f1[\"coronary_artery_disease\"].mode()[0],inplace=True) \n",
        "f1[ \"appetite\"].fillna(f1[\"appetite\"].mode()[0],inplace=True) \n",
        "f1[ \"pedal_edema\"].fillna(f1[\"pedal_edema\"].mode()[0],inplace=True) \n",
        "f1[ \"anemia\"].fillna(f1[\"anemia\"].mode()[0],inplace=True)\n",
        "f1[ \"hypertension\"].fillna(f1[\"hypertension\"].mode()[0],inplace=True)"
      ],
      "metadata": {
        "id": "BYrugct0BlkP"
      },
      "execution_count": 20,
      "outputs": []
    },
    {
      "cell_type": "code",
      "source": [
        "f1.isnull().any()"
      ],
      "metadata": {
        "colab": {
          "base_uri": "https://localhost:8080/"
        },
        "id": "FTiJK5z2DpYh",
        "outputId": "792e394f-0916-4e38-b64d-e04d5263b9f4"
      },
      "execution_count": 21,
      "outputs": [
        {
          "output_type": "execute_result",
          "data": {
            "text/plain": [
              "age                        False\n",
              "blood_pressure             False\n",
              "specific_gravity           False\n",
              "albumin                    False\n",
              "sugar                      False\n",
              "red_blood_cells            False\n",
              "pus_cell                   False\n",
              "pus_cell_clumps            False\n",
              "bacteria                   False\n",
              "blood_glucose_random       False\n",
              "blood_urea                 False\n",
              "serum_creatinine           False\n",
              "sodium                     False\n",
              "potassium                  False\n",
              "hemoglobin                 False\n",
              "packed_cell_volume         False\n",
              "white_blood_cell_count     False\n",
              "red_blood_cell_count       False\n",
              "hypertension               False\n",
              "diabetesmellitus           False\n",
              "coronary_artery_disease    False\n",
              "appetite                   False\n",
              "pedal_edema                False\n",
              "anemia                     False\n",
              "class                      False\n",
              "dtype: bool"
            ]
          },
          "metadata": {},
          "execution_count": 21
        }
      ]
    },
    {
      "cell_type": "markdown",
      "source": [
        "**LABEL ENCODING**"
      ],
      "metadata": {
        "id": "zNbrAzrVD08z"
      }
    },
    {
      "cell_type": "code",
      "source": [
        "from sklearn.preprocessing import LabelEncoder\n",
        "from collections import Counter\n",
        "for i in cat_cols: \n",
        "   print(\"LABEL ENCODING OF: \",i)\n",
        "   encod=LabelEncoder()\n",
        "   print(Counter(f1[i])) \n",
        "   f1[i] = encod.fit_transform(f1[i])  \n",
        "   print(Counter(f1[i])) \n",
        "   print(\"*\"*100)"
      ],
      "metadata": {
        "colab": {
          "base_uri": "https://localhost:8080/"
        },
        "id": "kTOItCt8D4Je",
        "outputId": "f806e1cf-ee58-4187-d111-00134d03ac9d"
      },
      "execution_count": 22,
      "outputs": [
        {
          "output_type": "stream",
          "name": "stdout",
          "text": [
            "LABEL ENCODING OF:  red_blood_cells\n",
            "Counter({'normal': 353, 'abnormal': 47})\n",
            "Counter({1: 353, 0: 47})\n",
            "****************************************************************************************************\n",
            "LABEL ENCODING OF:  pus_cell\n",
            "Counter({'normal': 324, 'abnormal': 76})\n",
            "Counter({1: 324, 0: 76})\n",
            "****************************************************************************************************\n",
            "LABEL ENCODING OF:  pus_cell_clumps\n",
            "Counter({'notpresent': 358, 'present': 42})\n",
            "Counter({0: 358, 1: 42})\n",
            "****************************************************************************************************\n",
            "LABEL ENCODING OF:  bacteria\n",
            "Counter({'notpresent': 378, 'present': 22})\n",
            "Counter({0: 378, 1: 22})\n",
            "****************************************************************************************************\n",
            "LABEL ENCODING OF:  packed_cell_volume\n",
            "Counter({38.88449848024316: 71, 52.0: 21, 41.0: 21, 44.0: 19, 48.0: 19, 40.0: 16, 43.0: 15, 45.0: 13, 42.0: 13, 32.0: 12, 36.0: 12, 33.0: 12, 28.0: 12, 50.0: 12, 37.0: 11, 34.0: 11, 35.0: 9, 29.0: 9, 30.0: 9, 46.0: 9, 31.0: 8, 39.0: 7, 24.0: 7, 26.0: 6, 38.0: 5, 47.0: 4, 49.0: 4, 53.0: 4, 51.0: 4, 54.0: 4, 27.0: 3, 22.0: 3, 25.0: 3, 23.0: 2, 19.0: 2, 16.0: 1, 14.0: 1, 18.0: 1, 17.0: 1, 15.0: 1, 21.0: 1, 20.0: 1, 9.0: 1})\n",
            "Counter({26: 71, 40: 21, 29: 21, 32: 19, 36: 19, 28: 16, 31: 15, 33: 13, 30: 13, 19: 12, 23: 12, 20: 12, 15: 12, 38: 12, 24: 11, 21: 11, 22: 9, 16: 9, 17: 9, 34: 9, 18: 8, 27: 7, 11: 7, 13: 6, 25: 5, 35: 4, 37: 4, 41: 4, 39: 4, 42: 4, 14: 3, 9: 3, 12: 3, 10: 2, 6: 2, 3: 1, 1: 1, 5: 1, 4: 1, 2: 1, 8: 1, 7: 1, 0: 1})\n",
            "****************************************************************************************************\n",
            "LABEL ENCODING OF:  white_blood_cell_count\n",
            "Counter({8406.122448979591: 106, 9800.0: 11, 6700.0: 10, 9600.0: 9, 9200.0: 9, 7200.0: 9, 6900.0: 8, 11000.0: 8, 5800.0: 8, 7800.0: 7, 9100.0: 7, 9400.0: 7, 7000.0: 7, 4300.0: 6, 6300.0: 6, 10700.0: 6, 10500.0: 6, 7500.0: 5, 6200.0: 5, 8300.0: 5, 7900.0: 5, 8600.0: 5, 5600.0: 5, 10200.0: 5, 5000.0: 5, 8100.0: 5, 9500.0: 5, 6000.0: 4, 8400.0: 4, 10300.0: 4, 7700.0: 4, 5500.0: 4, 10400.0: 4, 6800.0: 4, 6500.0: 4, 4700.0: 4, 7300.0: 3, 4500.0: 3, 6400.0: 3, 4200.0: 3, 7400.0: 3, 8000.0: 3, 5400.0: 3, 3800.0: 2, 11400.0: 2, 5300.0: 2, 8500.0: 2, 14600.0: 2, 7100.0: 2, 13200.0: 2, 9000.0: 2, 8200.0: 2, 15200.0: 2, 12400.0: 2, 12800.0: 2, 8800.0: 2, 5700.0: 2, 9300.0: 2, 6600.0: 2, 12100.0: 1, 12200.0: 1, 18900.0: 1, 21600.0: 1, 11300.0: 1, 11800.0: 1, 12500.0: 1, 11900.0: 1, 12700.0: 1, 13600.0: 1, 14900.0: 1, 16300.0: 1, 10900.0: 1, 2200.0: 1, 11200.0: 1, 19100.0: 1, 12300.0: 1, 16700.0: 1, 2600.0: 1, 26400.0: 1, 4900.0: 1, 12000.0: 1, 15700.0: 1, 4100.0: 1, 11500.0: 1, 10800.0: 1, 9900.0: 1, 5200.0: 1, 5900.0: 1, 9700.0: 1, 5100.0: 1})\n",
            "Counter({42: 106, 54: 11, 25: 10, 52: 9, 48: 9, 30: 9, 27: 8, 63: 8, 17: 8, 35: 7, 47: 7, 50: 7, 28: 7, 5: 6, 21: 6, 60: 6, 59: 6, 33: 5, 20: 5, 40: 5, 36: 5, 44: 5, 15: 5, 56: 5, 9: 5, 38: 5, 51: 5, 19: 4, 41: 4, 57: 4, 34: 4, 14: 4, 58: 4, 26: 4, 23: 4, 7: 4, 31: 3, 6: 3, 22: 3, 4: 3, 32: 3, 37: 3, 13: 3, 2: 2, 66: 2, 12: 2, 43: 2, 80: 2, 29: 2, 78: 2, 46: 2, 39: 2, 82: 2, 74: 2, 77: 2, 45: 2, 16: 2, 49: 2, 24: 2, 71: 1, 72: 1, 86: 1, 88: 1, 65: 1, 68: 1, 75: 1, 69: 1, 76: 1, 79: 1, 81: 1, 84: 1, 62: 1, 0: 1, 64: 1, 87: 1, 73: 1, 85: 1, 1: 1, 89: 1, 8: 1, 70: 1, 83: 1, 3: 1, 67: 1, 61: 1, 55: 1, 11: 1, 18: 1, 53: 1, 10: 1})\n",
            "****************************************************************************************************\n",
            "LABEL ENCODING OF:  red_blood_cell_count\n",
            "Counter({4.707434944237917: 131, 5.2: 18, 4.5: 16, 4.9: 14, 4.7: 11, 3.9: 10, 5.0: 10, 4.8: 10, 4.6: 9, 3.4: 9, 3.7: 8, 6.1: 8, 5.5: 8, 5.9: 8, 3.8: 7, 5.4: 7, 5.8: 7, 5.3: 7, 4.0: 6, 4.3: 6, 4.2: 6, 5.6: 6, 4.4: 5, 3.2: 5, 4.1: 5, 6.2: 5, 5.1: 5, 6.4: 5, 5.7: 5, 6.5: 5, 3.6: 4, 6.0: 4, 6.3: 4, 3.5: 3, 3.3: 3, 3.0: 3, 2.6: 2, 2.8: 2, 2.5: 2, 3.1: 2, 2.1: 2, 2.9: 2, 2.7: 2, 2.3: 1, 8.0: 1, 2.4: 1})\n",
            "Counter({26: 131, 31: 18, 23: 16, 28: 14, 25: 11, 17: 10, 29: 10, 27: 10, 24: 9, 12: 9, 15: 8, 40: 8, 34: 8, 38: 8, 16: 7, 33: 7, 37: 7, 32: 7, 18: 6, 21: 6, 20: 6, 35: 6, 22: 5, 10: 5, 19: 5, 41: 5, 30: 5, 43: 5, 36: 5, 44: 5, 14: 4, 39: 4, 42: 4, 13: 3, 11: 3, 8: 3, 4: 2, 6: 2, 3: 2, 9: 2, 0: 2, 7: 2, 5: 2, 1: 1, 45: 1, 2: 1})\n",
            "****************************************************************************************************\n",
            "LABEL ENCODING OF:  hypertension\n",
            "Counter({'no': 253, 'yes': 147})\n",
            "Counter({0: 253, 1: 147})\n",
            "****************************************************************************************************\n",
            "LABEL ENCODING OF:  diabetesmellitus\n",
            "Counter({'no': 263, 'yes': 137})\n",
            "Counter({0: 263, 1: 137})\n",
            "****************************************************************************************************\n",
            "LABEL ENCODING OF:  coronary_artery_disease\n",
            "Counter({'no': 366, 'yes': 34})\n",
            "Counter({0: 366, 1: 34})\n",
            "****************************************************************************************************\n",
            "LABEL ENCODING OF:  appetite\n",
            "Counter({'good': 318, 'poor': 82})\n",
            "Counter({0: 318, 1: 82})\n",
            "****************************************************************************************************\n",
            "LABEL ENCODING OF:  pedal_edema\n",
            "Counter({'no': 324, 'yes': 76})\n",
            "Counter({0: 324, 1: 76})\n",
            "****************************************************************************************************\n",
            "LABEL ENCODING OF:  anemia\n",
            "Counter({'no': 340, 'yes': 60})\n",
            "Counter({0: 340, 1: 60})\n",
            "****************************************************************************************************\n",
            "LABEL ENCODING OF:  class\n",
            "Counter({'ckd': 250, 'notckd': 150})\n",
            "Counter({0: 250, 1: 150})\n",
            "****************************************************************************************************\n"
          ]
        }
      ]
    },
    {
      "cell_type": "markdown",
      "source": [
        "**SPLITTING THE DATA IN INDEPENDENT AND DEPENDENT VARIABLES**"
      ],
      "metadata": {
        "id": "lXXvemHstqyd"
      }
    },
    {
      "cell_type": "code",
      "source": [
        "xcols=['red_blood_cells', 'pus_cell', 'blood_glucose_random', 'blood_urea', 'pedal_edema', 'anemia', 'diabetesmellitus', 'coronary_artery_disease']\n",
        "\n",
        "x=pd.DataFrame(f1, columns=xcols)\n",
        "y=pd.DataFrame(f1, columns=['class'])\n",
        "print(x.shape)\n",
        "print(y.shape)"
      ],
      "metadata": {
        "id": "RTwfUZCtsRtp",
        "colab": {
          "base_uri": "https://localhost:8080/"
        },
        "outputId": "c5daa786-3cf6-4845-9c29-1c0214aec5d4"
      },
      "execution_count": 23,
      "outputs": [
        {
          "output_type": "stream",
          "name": "stdout",
          "text": [
            "(400, 8)\n",
            "(400, 1)\n"
          ]
        }
      ]
    },
    {
      "cell_type": "markdown",
      "source": [
        "**SPLIT INTO TRAIN AND TEST SET**"
      ],
      "metadata": {
        "id": "DDIecQHPvQFt"
      }
    },
    {
      "cell_type": "code",
      "source": [
        "from sklearn.model_selection import train_test_split\n",
        "x_train,x_test,y_train,y_test=train_test_split(x,y,test_size=0.3, random_state=2) \n",
        "print(x_train.shape)\n",
        "print(y_train.shape)\n",
        "print(x_test.shape)\n",
        "print(y_test.shape)"
      ],
      "metadata": {
        "colab": {
          "base_uri": "https://localhost:8080/"
        },
        "id": "xy2UlieEvOuR",
        "outputId": "8221e5c6-012f-435a-94b4-a2acc3210f82"
      },
      "execution_count": 24,
      "outputs": [
        {
          "output_type": "stream",
          "name": "stdout",
          "text": [
            "(280, 8)\n",
            "(280, 1)\n",
            "(120, 8)\n",
            "(120, 1)\n"
          ]
        }
      ]
    },
    {
      "cell_type": "markdown",
      "source": [
        "**MODEL BUILDING**"
      ],
      "metadata": {
        "id": "GpD_wdz4KyT7"
      }
    },
    {
      "cell_type": "markdown",
      "source": [
        "**a) LOGISTIC REGRESSION**"
      ],
      "metadata": {
        "id": "DziNRwAJLA8U"
      }
    },
    {
      "cell_type": "code",
      "source": [
        "from sklearn. linear_model import LogisticRegression\n",
        "logreg= LogisticRegression()\n",
        "logreg.fit(x_train, y_train.values.ravel())"
      ],
      "metadata": {
        "colab": {
          "base_uri": "https://localhost:8080/"
        },
        "id": "SHlazvC1vydK",
        "outputId": "41978b3b-b471-44ae-ab41-3c5b717fb68a"
      },
      "execution_count": 25,
      "outputs": [
        {
          "output_type": "stream",
          "name": "stderr",
          "text": [
            "/usr/local/lib/python3.7/dist-packages/sklearn/linear_model/_logistic.py:818: ConvergenceWarning: lbfgs failed to converge (status=1):\n",
            "STOP: TOTAL NO. of ITERATIONS REACHED LIMIT.\n",
            "\n",
            "Increase the number of iterations (max_iter) or scale the data as shown in:\n",
            "    https://scikit-learn.org/stable/modules/preprocessing.html\n",
            "Please also refer to the documentation for alternative solver options:\n",
            "    https://scikit-learn.org/stable/modules/linear_model.html#logistic-regression\n",
            "  extra_warning_msg=_LOGISTIC_SOLVER_CONVERGENCE_MSG,\n"
          ]
        },
        {
          "output_type": "execute_result",
          "data": {
            "text/plain": [
              "LogisticRegression()"
            ]
          },
          "metadata": {},
          "execution_count": 25
        }
      ]
    },
    {
      "cell_type": "code",
      "source": [
        "#training score\n",
        "logreg.score(x_train,y_train)"
      ],
      "metadata": {
        "colab": {
          "base_uri": "https://localhost:8080/"
        },
        "id": "cNiW_DQALMsm",
        "outputId": "26c92491-9142-4bba-a013-89ac504e7746"
      },
      "execution_count": 26,
      "outputs": [
        {
          "output_type": "execute_result",
          "data": {
            "text/plain": [
              "0.9142857142857143"
            ]
          },
          "metadata": {},
          "execution_count": 26
        }
      ]
    },
    {
      "cell_type": "code",
      "source": [
        "#testing accuracy\n",
        "logreg.score(x_test,y_test)"
      ],
      "metadata": {
        "colab": {
          "base_uri": "https://localhost:8080/"
        },
        "id": "zHYX8jOmLVIK",
        "outputId": "cdfcad36-4279-4187-db04-9e305a1928a5"
      },
      "execution_count": 27,
      "outputs": [
        {
          "output_type": "execute_result",
          "data": {
            "text/plain": [
              "0.9083333333333333"
            ]
          },
          "metadata": {},
          "execution_count": 27
        }
      ]
    },
    {
      "cell_type": "code",
      "source": [
        "y_pred_log=logreg.predict(x_test)"
      ],
      "metadata": {
        "id": "GKG4B0XdMSW_"
      },
      "execution_count": 28,
      "outputs": []
    },
    {
      "cell_type": "code",
      "source": [
        "#accuracy\n",
        "from sklearn.metrics import accuracy_score\n",
        "log_acc=accuracy_score(y_test, y_pred_log)\n",
        "print('Accuracy: {0:.3f}'.format(log_acc))"
      ],
      "metadata": {
        "colab": {
          "base_uri": "https://localhost:8080/"
        },
        "id": "j1xODf4JLdf5",
        "outputId": "b4eb0d64-f7e6-4f4a-93ee-ac2b770928fd"
      },
      "execution_count": 29,
      "outputs": [
        {
          "output_type": "stream",
          "name": "stdout",
          "text": [
            "Accuracy: 0.908\n"
          ]
        }
      ]
    },
    {
      "cell_type": "markdown",
      "source": [
        "**b) KNN CLASSIFIER**"
      ],
      "metadata": {
        "id": "vG20DiRhLE7s"
      }
    },
    {
      "cell_type": "code",
      "source": [
        "from sklearn.neighbors import KNeighborsClassifier\n",
        "knnclass= KNeighborsClassifier(n_neighbors=5)\n",
        "knnclass.fit(x_train, y_train.values.ravel())"
      ],
      "metadata": {
        "colab": {
          "base_uri": "https://localhost:8080/"
        },
        "id": "5CnRl7Q5LISk",
        "outputId": "ddfe7175-f046-47e5-b5bd-2f6390af46a8"
      },
      "execution_count": 30,
      "outputs": [
        {
          "output_type": "execute_result",
          "data": {
            "text/plain": [
              "KNeighborsClassifier()"
            ]
          },
          "metadata": {},
          "execution_count": 30
        }
      ]
    },
    {
      "cell_type": "code",
      "source": [
        "#training score\n",
        "knnclass.score(x_train,y_train)"
      ],
      "metadata": {
        "colab": {
          "base_uri": "https://localhost:8080/"
        },
        "id": "PHHZokYTRiiR",
        "outputId": "a8cfffdd-f99c-4c6a-e365-c9017a2fffc6"
      },
      "execution_count": 31,
      "outputs": [
        {
          "output_type": "execute_result",
          "data": {
            "text/plain": [
              "0.8714285714285714"
            ]
          },
          "metadata": {},
          "execution_count": 31
        }
      ]
    },
    {
      "cell_type": "code",
      "source": [
        "#testing accuracy\n",
        "knnclass.score(x_test,y_test)"
      ],
      "metadata": {
        "colab": {
          "base_uri": "https://localhost:8080/"
        },
        "id": "Q6oH_CO9Q1Do",
        "outputId": "1b19a5df-4759-4bb8-ab28-00ee768de969"
      },
      "execution_count": 32,
      "outputs": [
        {
          "output_type": "execute_result",
          "data": {
            "text/plain": [
              "0.85"
            ]
          },
          "metadata": {},
          "execution_count": 32
        }
      ]
    },
    {
      "cell_type": "code",
      "source": [
        "y_pred_knn=knnclass.predict(x_test)"
      ],
      "metadata": {
        "id": "YH_NQmpYQulu"
      },
      "execution_count": 33,
      "outputs": []
    },
    {
      "cell_type": "code",
      "source": [
        "knn_acc=accuracy_score(y_test, y_pred_knn)\n",
        "print('Accuracy: {0:.3f}'.format(knn_acc))"
      ],
      "metadata": {
        "colab": {
          "base_uri": "https://localhost:8080/"
        },
        "id": "rwuZA3oxRE__",
        "outputId": "4b28a006-990c-422c-eb46-729f7b9a60d3"
      },
      "execution_count": 34,
      "outputs": [
        {
          "output_type": "stream",
          "name": "stdout",
          "text": [
            "Accuracy: 0.850\n"
          ]
        }
      ]
    },
    {
      "cell_type": "markdown",
      "source": [
        "**c) RANDOM FOREST**"
      ],
      "metadata": {
        "id": "O-voDb6pRxF-"
      }
    },
    {
      "cell_type": "code",
      "source": [
        "from sklearn.ensemble import RandomForestClassifier\n",
        "rand_forest= RandomForestClassifier(n_estimators=80,oob_score=True,n_jobs=-1,random_state=101,max_features=None,min_samples_leaf=30)\n",
        "rand_forest.fit(x_train, y_train.values.ravel())"
      ],
      "metadata": {
        "colab": {
          "base_uri": "https://localhost:8080/"
        },
        "id": "Uy2sw4cWSEVC",
        "outputId": "cb79bf72-57dd-4c3b-e808-35340670afc3"
      },
      "execution_count": 35,
      "outputs": [
        {
          "output_type": "execute_result",
          "data": {
            "text/plain": [
              "RandomForestClassifier(max_features=None, min_samples_leaf=30, n_estimators=80,\n",
              "                       n_jobs=-1, oob_score=True, random_state=101)"
            ]
          },
          "metadata": {},
          "execution_count": 35
        }
      ]
    },
    {
      "cell_type": "code",
      "source": [
        "#training score\n",
        "rand_forest.score(x_train,y_train)"
      ],
      "metadata": {
        "colab": {
          "base_uri": "https://localhost:8080/"
        },
        "id": "0HQjm1xiSaM0",
        "outputId": "6c84582c-cc52-480e-dfdd-9bdf751aa07a"
      },
      "execution_count": 36,
      "outputs": [
        {
          "output_type": "execute_result",
          "data": {
            "text/plain": [
              "0.8821428571428571"
            ]
          },
          "metadata": {},
          "execution_count": 36
        }
      ]
    },
    {
      "cell_type": "code",
      "source": [
        "#testing accuracy\n",
        "rand_forest.score(x_test,y_test)"
      ],
      "metadata": {
        "colab": {
          "base_uri": "https://localhost:8080/"
        },
        "id": "QcGnnLhUSfKj",
        "outputId": "efbe3e4e-fc29-4eac-83d9-8068da240fd9"
      },
      "execution_count": 37,
      "outputs": [
        {
          "output_type": "execute_result",
          "data": {
            "text/plain": [
              "0.8916666666666667"
            ]
          },
          "metadata": {},
          "execution_count": 37
        }
      ]
    },
    {
      "cell_type": "code",
      "source": [
        "y_pred_randforest=rand_forest.predict(x_test)"
      ],
      "metadata": {
        "id": "RhQJjRaRShHn"
      },
      "execution_count": 38,
      "outputs": []
    },
    {
      "cell_type": "code",
      "source": [
        "rand_forest_acc=accuracy_score(y_test, y_pred_randforest)\n",
        "print('Accuracy: {0:.3f}'.format(rand_forest_acc))"
      ],
      "metadata": {
        "colab": {
          "base_uri": "https://localhost:8080/"
        },
        "id": "JSotxx3sSi0Y",
        "outputId": "f7922f34-7aba-4cb1-f4bc-e9317fb801c4"
      },
      "execution_count": 39,
      "outputs": [
        {
          "output_type": "stream",
          "name": "stdout",
          "text": [
            "Accuracy: 0.892\n"
          ]
        }
      ]
    },
    {
      "cell_type": "markdown",
      "source": [
        "**MODEL EVALUATION**"
      ],
      "metadata": {
        "id": "R6c3-vZNLbkd"
      }
    },
    {
      "cell_type": "code",
      "source": [
        "from sklearn.metrics import accuracy_score, classification_report\n",
        "from sklearn.metrics import mean_absolute_error\n",
        "from sklearn.metrics import mean_squared_error\n",
        "from sklearn.metrics import confusion_matrix\n",
        "from sklearn.metrics import confusion_matrix, ConfusionMatrixDisplay\n",
        "from sklearn.metrics import roc_curve, auc"
      ],
      "metadata": {
        "id": "4YeLqlWmMjs8"
      },
      "execution_count": 40,
      "outputs": []
    },
    {
      "cell_type": "markdown",
      "source": [
        "**a) LOGISTIC REGRESSION**"
      ],
      "metadata": {
        "id": "xKJwk_TGPp_y"
      }
    },
    {
      "cell_type": "code",
      "source": [
        "mae_log=mean_absolute_error(y_test, y_pred_log)"
      ],
      "metadata": {
        "id": "hph_8HefOXai"
      },
      "execution_count": 41,
      "outputs": []
    },
    {
      "cell_type": "code",
      "source": [
        "mse_log=mean_squared_error(y_test, y_pred_log, squared=False)"
      ],
      "metadata": {
        "id": "z7Kd_a2DOYZK"
      },
      "execution_count": 42,
      "outputs": []
    },
    {
      "cell_type": "code",
      "source": [
        "clsrep_log=classification_report(y_test, y_pred_log)"
      ],
      "metadata": {
        "id": "7oK9HyGFOYcj"
      },
      "execution_count": 43,
      "outputs": []
    },
    {
      "cell_type": "code",
      "source": [
        "print(\"LOGISTIC REGRESSION:\\n\")\n",
        "print('Accuracy             : {0:.3f}'.format(log_acc))\n",
        "print(\"MAE                  : \",mae_log)\n",
        "print(\"MSE                  : \",mse_log)\n",
        "print(\"Classification Report: \", clsrep_log)\n",
        "#print(classification_report(y_test, y_pred_log))\n"
      ],
      "metadata": {
        "colab": {
          "base_uri": "https://localhost:8080/"
        },
        "id": "vxeqv92LLasP",
        "outputId": "b36bc0a0-11e6-488b-ce00-69b7d3185c9e"
      },
      "execution_count": 44,
      "outputs": [
        {
          "output_type": "stream",
          "name": "stdout",
          "text": [
            "LOGISTIC REGRESSION:\n",
            "\n",
            "Accuracy             : 0.908\n",
            "MAE                  :  0.09166666666666666\n",
            "MSE                  :  0.30276503540974914\n",
            "Classification Report:                precision    recall  f1-score   support\n",
            "\n",
            "           0       0.97      0.88      0.93        78\n",
            "           1       0.82      0.95      0.88        42\n",
            "\n",
            "    accuracy                           0.91       120\n",
            "   macro avg       0.89      0.92      0.90       120\n",
            "weighted avg       0.92      0.91      0.91       120\n",
            "\n"
          ]
        }
      ]
    },
    {
      "cell_type": "code",
      "source": [
        "#confusion matrix\n",
        "cm_log= confusion_matrix(y_test, y_pred_log)\n",
        "disp_log= ConfusionMatrixDisplay(confusion_matrix=cm_log,display_labels=logreg.classes_)\n",
        "disp_log.plot()\n",
        "print(\"Confusion Matrix for Logistic Regression: \")\n",
        "plt.show()"
      ],
      "metadata": {
        "colab": {
          "base_uri": "https://localhost:8080/",
          "height": 296
        },
        "id": "nCUuUZCXPKTu",
        "outputId": "4a4bcce0-5745-4b66-9242-10e9618ed608"
      },
      "execution_count": 45,
      "outputs": [
        {
          "output_type": "stream",
          "name": "stdout",
          "text": [
            "Confusion Matrix for Logistic Regression: \n"
          ]
        },
        {
          "output_type": "display_data",
          "data": {
            "text/plain": [
              "<Figure size 432x288 with 2 Axes>"
            ],
            "image/png": "[encoded data removed]"
          },
          "metadata": {
            "needs_background": "light"
          }
        }
      ]
    },
    {
      "cell_type": "code",
      "source": [
        "#roc curve\n",
        "fig, (ax2) = plt.subplots(figsize = (8,6))\n",
        "        #roc-curve\n",
        "fpr, tpr, thresholds_roc = roc_curve(y_test,y_pred_log)\n",
        "roc_auc = auc(fpr,tpr)\n",
        "ax2.plot(fpr,tpr, label = \" AUROC = {:0.2f}\".format(roc_auc))\n",
        "ax2.plot([0,1], [0,1], 'r', linestyle = \"--\", lw = 2)\n",
        "ax2.set_xlabel(\"False Positive Rate\", fontsize = 14)\n",
        "ax2.set_ylabel(\"True Positive Rate\", fontsize = 14)\n",
        "ax2.set_title(\"ROC Curve\", fontsize = 18)\n",
        "ax2.legend(loc = 'best')\n",
        "plt.title('ROC curve for Logistic Regression')\n",
        "plt.xlabel('False Positive Rate (1 - Specificity)')\n",
        "plt.ylabel('True Positive Rate (Sensitivity)')\n",
        "#find default threshold\n",
        "close_default = np.argmin(np.abs(thresholds_roc - 0.5))\n",
        "ax2.plot(fpr[close_default], tpr[close_default], 'o', markersize = 8)\n",
        "plt.tight_layout()"
      ],
      "metadata": {
        "colab": {
          "base_uri": "https://localhost:8080/",
          "height": 441
        },
        "id": "tc8ae9r9OzrB",
        "outputId": "28f46404-0025-4ccb-d718-91c718a51bde"
      },
      "execution_count": 46,
      "outputs": [
        {
          "output_type": "display_data",
          "data": {
            "text/plain": [
              "<Figure size 576x432 with 1 Axes>"
            ],
            "image/png": "[encoded data removed]"
          },
          "metadata": {
            "needs_background": "light"
          }
        }
      ]
    },
    {
      "cell_type": "markdown",
      "source": [
        "**b) KNN CLASSIFIER**"
      ],
      "metadata": {
        "id": "wwLCXgwVLmNr"
      }
    },
    {
      "cell_type": "code",
      "source": [
        "mae_knn=mean_absolute_error(y_test, y_pred_knn)"
      ],
      "metadata": {
        "id": "PQ2u3LWzLa4c"
      },
      "execution_count": 47,
      "outputs": []
    },
    {
      "cell_type": "code",
      "source": [
        "mse_knn=mean_squared_error(y_test, y_pred_knn, squared=False)"
      ],
      "metadata": {
        "id": "rTdFRpd_Pxw1"
      },
      "execution_count": 48,
      "outputs": []
    },
    {
      "cell_type": "code",
      "source": [
        "clsrep_knn=classification_report(y_test, y_pred_knn)"
      ],
      "metadata": {
        "id": "W6E86HKwPyJM"
      },
      "execution_count": 49,
      "outputs": []
    },
    {
      "cell_type": "code",
      "source": [
        "print(\"KNN CLASSIFIER:\\n\")\n",
        "print('Accuracy             : {0:.3f}'.format(knn_acc))\n",
        "print(\"MAE                  : \",mae_knn)\n",
        "print(\"MSE                  : \",mse_knn)\n",
        "print(\"Classification Report: \", clsrep_knn)"
      ],
      "metadata": {
        "colab": {
          "base_uri": "https://localhost:8080/"
        },
        "id": "kUfuszF0P2rI",
        "outputId": "a9640294-2861-46bb-d939-7e72d8079776"
      },
      "execution_count": 50,
      "outputs": [
        {
          "output_type": "stream",
          "name": "stdout",
          "text": [
            "KNN CLASSIFIER:\n",
            "\n",
            "Accuracy             : 0.850\n",
            "MAE                  :  0.15\n",
            "MSE                  :  0.3872983346207417\n",
            "Classification Report:                precision    recall  f1-score   support\n",
            "\n",
            "           0       0.92      0.85      0.88        78\n",
            "           1       0.75      0.86      0.80        42\n",
            "\n",
            "    accuracy                           0.85       120\n",
            "   macro avg       0.83      0.85      0.84       120\n",
            "weighted avg       0.86      0.85      0.85       120\n",
            "\n"
          ]
        }
      ]
    },
    {
      "cell_type": "code",
      "source": [
        "#confusion matrix\n",
        "cm_knn= confusion_matrix(y_test, y_pred_knn)\n",
        "disp_knn= ConfusionMatrixDisplay(confusion_matrix=cm_knn,display_labels=knnclass.classes_)\n",
        "disp_knn.plot()\n",
        "print(\"Confusion Matrix for KNN Classifier: \")\n",
        "plt.show()"
      ],
      "metadata": {
        "colab": {
          "base_uri": "https://localhost:8080/",
          "height": 296
        },
        "id": "e-5F9TuTP3Hf",
        "outputId": "03e42631-324c-48ad-8219-cf0532935ad7"
      },
      "execution_count": 51,
      "outputs": [
        {
          "output_type": "stream",
          "name": "stdout",
          "text": [
            "Confusion Matrix for KNN Classifier: \n"
          ]
        },
        {
          "output_type": "display_data",
          "data": {
            "text/plain": [
              "<Figure size 432x288 with 2 Axes>"
            ],
            "image/png": "[encoded data removed]"
          },
          "metadata": {
            "needs_background": "light"
          }
        }
      ]
    },
    {
      "cell_type": "code",
      "source": [
        "#roc curve\n",
        "fig, (ax2) = plt.subplots(figsize = (8,6))\n",
        "fpr, tpr, thresholds_roc = roc_curve(y_test,y_pred_knn)\n",
        "roc_auc = auc(fpr,tpr)\n",
        "ax2.plot(fpr,tpr, label = \" AUROC = {:0.2f}\".format(roc_auc))\n",
        "ax2.plot([0,1], [0,1], 'r', linestyle = \"--\", lw = 2)\n",
        "ax2.set_xlabel(\"False Positive Rate\", fontsize = 14)\n",
        "ax2.set_ylabel(\"True Positive Rate\", fontsize = 14)\n",
        "ax2.set_title(\"ROC Curve\", fontsize = 18)\n",
        "ax2.legend(loc = 'best')\n",
        "plt.title('ROC curve for KNN Classifier')\n",
        "plt.xlabel('False Positive Rate (1 - Specificity)')\n",
        "plt.ylabel('True Positive Rate (Sensitivity)')\n",
        "#find default threshold\n",
        "close_default = np.argmin(np.abs(thresholds_roc - 0.5))\n",
        "ax2.plot(fpr[close_default], tpr[close_default], 'o', markersize = 8)\n",
        "plt.tight_layout()"
      ],
      "metadata": {
        "colab": {
          "base_uri": "https://localhost:8080/",
          "height": 441
        },
        "id": "shfM78ZeP8w8",
        "outputId": "7640776b-348f-43ea-aa43-3db2a3e650a3"
      },
      "execution_count": 52,
      "outputs": [
        {
          "output_type": "display_data",
          "data": {
            "text/plain": [
              "<Figure size 576x432 with 1 Axes>"
            ],
            "image/png": "[encoded data removed]"
          },
          "metadata": {
            "needs_background": "light"
          }
        }
      ]
    },
    {
      "cell_type": "markdown",
      "source": [
        "**c) RANDOM FOREST**"
      ],
      "metadata": {
        "id": "r2mMtWvtLrIb"
      }
    },
    {
      "cell_type": "code",
      "source": [
        "mae_rand_forest=mean_absolute_error(y_test, y_pred_randforest)"
      ],
      "metadata": {
        "id": "Rd0f4sgBP9yT"
      },
      "execution_count": 53,
      "outputs": []
    },
    {
      "cell_type": "code",
      "source": [
        "mse_rand_forest=mean_squared_error(y_test, y_pred_randforest, squared=False)"
      ],
      "metadata": {
        "id": "UidfO0XfP91c"
      },
      "execution_count": 54,
      "outputs": []
    },
    {
      "cell_type": "code",
      "source": [
        "clsrep_rand_forest=classification_report(y_test, y_pred_randforest)"
      ],
      "metadata": {
        "id": "za3OT-wbP95X"
      },
      "execution_count": 55,
      "outputs": []
    },
    {
      "cell_type": "code",
      "source": [
        "print(\"RANDOM FOREST CLASSIFIER:\\n\")\n",
        "print('Accuracy             : {0:.3f}'.format(rand_forest_acc))\n",
        "print(\"MAE                  : \",mae_rand_forest)\n",
        "print(\"MSE                  : \",mse_rand_forest)\n",
        "print(\"Classification Report: \", clsrep_rand_forest)"
      ],
      "metadata": {
        "colab": {
          "base_uri": "https://localhost:8080/"
        },
        "id": "tCSCVMKBP-A4",
        "outputId": "0ff4aa3c-0c1b-4c17-d8bc-e0e41cabcba6"
      },
      "execution_count": 56,
      "outputs": [
        {
          "output_type": "stream",
          "name": "stdout",
          "text": [
            "RANDOM FOREST CLASSIFIER:\n",
            "\n",
            "Accuracy             : 0.892\n",
            "MAE                  :  0.10833333333333334\n",
            "MSE                  :  0.32914029430219166\n",
            "Classification Report:                precision    recall  f1-score   support\n",
            "\n",
            "           0       0.96      0.87      0.91        78\n",
            "           1       0.80      0.93      0.86        42\n",
            "\n",
            "    accuracy                           0.89       120\n",
            "   macro avg       0.88      0.90      0.88       120\n",
            "weighted avg       0.90      0.89      0.89       120\n",
            "\n"
          ]
        }
      ]
    },
    {
      "cell_type": "code",
      "source": [
        "#confusion matrix\n",
        "cm_rand_forest= confusion_matrix(y_test, y_pred_randforest)\n",
        "disp_rand_forest= ConfusionMatrixDisplay(confusion_matrix=cm_rand_forest,display_labels=rand_forest.classes_)\n",
        "disp_rand_forest.plot()\n",
        "print(\"Confusion Matrix for Random Forest Classifier: \")\n",
        "plt.show()"
      ],
      "metadata": {
        "colab": {
          "base_uri": "https://localhost:8080/",
          "height": 296
        },
        "id": "CaX5WRJlQFK1",
        "outputId": "cebb2a90-8826-427f-cecd-48fbcf85cc9d"
      },
      "execution_count": 57,
      "outputs": [
        {
          "output_type": "stream",
          "name": "stdout",
          "text": [
            "Confusion Matrix for Random Forest Classifier: \n"
          ]
        },
        {
          "output_type": "display_data",
          "data": {
            "text/plain": [
              "<Figure size 432x288 with 2 Axes>"
            ],
            "image/png": "[encoded data removed]"
          },
          "metadata": {
            "needs_background": "light"
          }
        }
      ]
    },
    {
      "cell_type": "code",
      "source": [
        "#roc curve\n",
        "fig, (ax2) = plt.subplots(figsize = (8,6))\n",
        "fpr, tpr, thresholds_roc = roc_curve(y_test,y_pred_randforest)\n",
        "roc_auc = auc(fpr,tpr)\n",
        "ax2.plot(fpr,tpr, label = \" AUROC = {:0.2f}\".format(roc_auc))\n",
        "ax2.plot([0,1], [0,1], 'r', linestyle = \"--\", lw = 2)\n",
        "ax2.set_xlabel(\"False Positive Rate\", fontsize = 14)\n",
        "ax2.set_ylabel(\"True Positive Rate\", fontsize = 14)\n",
        "ax2.set_title(\"ROC Curve\", fontsize = 18)\n",
        "ax2.legend(loc = 'best')\n",
        "plt.title('ROC curve for Random Forest Classifier')\n",
        "plt.xlabel('False Positive Rate (1 - Specificity)')\n",
        "plt.ylabel('True Positive Rate (Sensitivity)')\n",
        "#find default threshold\n",
        "close_default = np.argmin(np.abs(thresholds_roc - 0.5))\n",
        "ax2.plot(fpr[close_default], tpr[close_default], 'o', markersize = 8)\n",
        "plt.tight_layout()"
      ],
      "metadata": {
        "colab": {
          "base_uri": "https://localhost:8080/",
          "height": 441
        },
        "id": "xkW-EP29Lt3G",
        "outputId": "d9233ab2-7a60-4763-bad1-8c217318ce32"
      },
      "execution_count": 58,
      "outputs": [
        {
          "output_type": "display_data",
          "data": {
            "text/plain": [
              "<Figure size 576x432 with 1 Axes>"
            ],
            "image/png": "[encoded data removed]"
          },
          "metadata": {
            "needs_background": "light"
          }
        }
      ]
    },
    {
      "cell_type": "markdown",
      "source": [
        "***LOGISTIC REGRESSION MODEL HAS HIGH ACCURACY***\n"
      ],
      "metadata": {
        "id": "RvshJPvLSvgw"
      }
    }
  ]
}